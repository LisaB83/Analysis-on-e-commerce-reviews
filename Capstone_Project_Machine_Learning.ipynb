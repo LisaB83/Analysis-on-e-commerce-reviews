{
 "cells": [
  {
   "cell_type": "code",
   "execution_count": 1,
   "metadata": {},
   "outputs": [],
   "source": [
    "import pandas as pd\n",
    "import numpy as np\n",
    "import matplotlib.pyplot as plt\n",
    "import seaborn as sns\n",
    "import nltk\n",
    "\n",
    "import re\n",
    "from textblob import TextBlob\n",
    "from nltk.corpus import stopwords\n",
    "from sklearn.feature_extraction.text import CountVectorizer\n",
    "from sklearn.feature_extraction.text import TfidfVectorizer\n",
    "from sklearn.feature_extraction.text import TfidfTransformer\n",
    "from sklearn.feature_extraction import text\n",
    "from sklearn.model_selection import train_test_split\n",
    "from sklearn.naive_bayes import MultinomialNB\n",
    "from sklearn.metrics import confusion_matrix, classification_report\n",
    "from sklearn import metrics\n",
    "from sklearn.model_selection import cross_val_score\n",
    "from sklearn.linear_model import LogisticRegression\n",
    "from sklearn.linear_model import LinearRegression\n",
    "from sklearn.ensemble import RandomForestClassifier\n",
    "from sklearn.naive_bayes import GaussianNB\n",
    "from sklearn.svm import LinearSVC\n",
    "from sklearn.model_selection import cross_val_predict\n",
    "from sklearn.metrics import precision_score, recall_score\n",
    "from sklearn.metrics import f1_score\n",
    "from sklearn.metrics import precision_recall_curve\n",
    "from sklearn.metrics import roc_curve\n",
    "from sklearn.metrics import roc_auc_score\n",
    "from sklearn.model_selection import RandomizedSearchCV"
   ]
  },
  {
   "cell_type": "code",
   "execution_count": 2,
   "metadata": {},
   "outputs": [],
   "source": [
    "#Read the data files\n",
    "rev = pd.read_csv(\"C:/Users/USER/Desktop/Course_Data_Scientist_Springboard/1Project_E-commerce/Womens Clothing E-Commerce Reviews.csv\", index_col=0)\n",
    "rev_new = pd.read_csv(\"Reviews_new.csv\", index_col=0)"
   ]
  },
  {
   "cell_type": "markdown",
   "metadata": {},
   "source": [
    "## Visualizing features importances\n",
    "\n",
    "We determine which features were the most predictive for rating according to the random forests regressor rf.\n",
    "For this purpose, we draw a horizontal barplot of the feature importance as assessed by rf."
   ]
  },
  {
   "cell_type": "code",
   "execution_count": 3,
   "metadata": {},
   "outputs": [
    {
     "data": {
      "text/html": [
       "<div>\n",
       "<style scoped>\n",
       "    .dataframe tbody tr th:only-of-type {\n",
       "        vertical-align: middle;\n",
       "    }\n",
       "\n",
       "    .dataframe tbody tr th {\n",
       "        vertical-align: top;\n",
       "    }\n",
       "\n",
       "    .dataframe thead th {\n",
       "        text-align: right;\n",
       "    }\n",
       "</style>\n",
       "<table border=\"1\" class=\"dataframe\">\n",
       "  <thead>\n",
       "    <tr style=\"text-align: right;\">\n",
       "      <th></th>\n",
       "      <th>Clothing ID</th>\n",
       "      <th>Age</th>\n",
       "      <th>Title</th>\n",
       "      <th>Review Text</th>\n",
       "      <th>Rating</th>\n",
       "      <th>Recommended IND</th>\n",
       "      <th>Positive Feedback Count</th>\n",
       "      <th>Division Name</th>\n",
       "      <th>Department Name</th>\n",
       "      <th>Class Name</th>\n",
       "      <th>char_length_RT</th>\n",
       "      <th>word_count_RT</th>\n",
       "      <th>avg_word</th>\n",
       "      <th>stopwords_len</th>\n",
       "      <th>spec_char</th>\n",
       "      <th>RT_new</th>\n",
       "      <th>sent</th>\n",
       "      <th>Sentiment</th>\n",
       "    </tr>\n",
       "  </thead>\n",
       "  <tbody>\n",
       "    <tr>\n",
       "      <th>0</th>\n",
       "      <td>767</td>\n",
       "      <td>33</td>\n",
       "      <td>NaN</td>\n",
       "      <td>Absolutely wonderful - silky and sexy and comf...</td>\n",
       "      <td>4</td>\n",
       "      <td>1</td>\n",
       "      <td>0</td>\n",
       "      <td>Initmates</td>\n",
       "      <td>Intimate</td>\n",
       "      <td>Intimates</td>\n",
       "      <td>53</td>\n",
       "      <td>8</td>\n",
       "      <td>5.750000</td>\n",
       "      <td>2</td>\n",
       "      <td>0</td>\n",
       "      <td>absolutely wonderful silky sexy comfortable</td>\n",
       "      <td>0.633333</td>\n",
       "      <td>Strong Positive</td>\n",
       "    </tr>\n",
       "    <tr>\n",
       "      <th>1</th>\n",
       "      <td>1080</td>\n",
       "      <td>34</td>\n",
       "      <td>NaN</td>\n",
       "      <td>Love this dress!  it's sooo pretty.  i happene...</td>\n",
       "      <td>5</td>\n",
       "      <td>1</td>\n",
       "      <td>4</td>\n",
       "      <td>General</td>\n",
       "      <td>Dresses</td>\n",
       "      <td>Dresses</td>\n",
       "      <td>303</td>\n",
       "      <td>67</td>\n",
       "      <td>3.822581</td>\n",
       "      <td>30</td>\n",
       "      <td>1</td>\n",
       "      <td>love dress sooo pretty happened store im glad ...</td>\n",
       "      <td>0.339583</td>\n",
       "      <td>Positive</td>\n",
       "    </tr>\n",
       "    <tr>\n",
       "      <th>2</th>\n",
       "      <td>1077</td>\n",
       "      <td>60</td>\n",
       "      <td>Some major design flaws</td>\n",
       "      <td>I had such high hopes for this dress and reall...</td>\n",
       "      <td>3</td>\n",
       "      <td>0</td>\n",
       "      <td>0</td>\n",
       "      <td>General</td>\n",
       "      <td>Dresses</td>\n",
       "      <td>Dresses</td>\n",
       "      <td>500</td>\n",
       "      <td>98</td>\n",
       "      <td>4.112245</td>\n",
       "      <td>45</td>\n",
       "      <td>1</td>\n",
       "      <td>high hopes dress really wanted work initially ...</td>\n",
       "      <td>0.073675</td>\n",
       "      <td>Neutral</td>\n",
       "    </tr>\n",
       "    <tr>\n",
       "      <th>3</th>\n",
       "      <td>1049</td>\n",
       "      <td>50</td>\n",
       "      <td>My favorite buy!</td>\n",
       "      <td>I love, love, love this jumpsuit. it's fun, fl...</td>\n",
       "      <td>5</td>\n",
       "      <td>1</td>\n",
       "      <td>0</td>\n",
       "      <td>General Petite</td>\n",
       "      <td>Bottoms</td>\n",
       "      <td>Pants</td>\n",
       "      <td>124</td>\n",
       "      <td>22</td>\n",
       "      <td>4.681818</td>\n",
       "      <td>6</td>\n",
       "      <td>2</td>\n",
       "      <td>love love love jumpsuit fun flirty fabulous ti...</td>\n",
       "      <td>0.550000</td>\n",
       "      <td>Positive</td>\n",
       "    </tr>\n",
       "    <tr>\n",
       "      <th>4</th>\n",
       "      <td>847</td>\n",
       "      <td>47</td>\n",
       "      <td>Flattering shirt</td>\n",
       "      <td>This shirt is very flattering to all due to th...</td>\n",
       "      <td>5</td>\n",
       "      <td>1</td>\n",
       "      <td>6</td>\n",
       "      <td>General</td>\n",
       "      <td>Tops</td>\n",
       "      <td>Blouses</td>\n",
       "      <td>192</td>\n",
       "      <td>36</td>\n",
       "      <td>4.361111</td>\n",
       "      <td>19</td>\n",
       "      <td>1</td>\n",
       "      <td>shirt flattering adjustable tie perfect length...</td>\n",
       "      <td>0.512891</td>\n",
       "      <td>Positive</td>\n",
       "    </tr>\n",
       "  </tbody>\n",
       "</table>\n",
       "</div>"
      ],
      "text/plain": [
       "   Clothing ID  Age                    Title  \\\n",
       "0          767   33                      NaN   \n",
       "1         1080   34                      NaN   \n",
       "2         1077   60  Some major design flaws   \n",
       "3         1049   50         My favorite buy!   \n",
       "4          847   47         Flattering shirt   \n",
       "\n",
       "                                         Review Text  Rating  Recommended IND  \\\n",
       "0  Absolutely wonderful - silky and sexy and comf...       4                1   \n",
       "1  Love this dress!  it's sooo pretty.  i happene...       5                1   \n",
       "2  I had such high hopes for this dress and reall...       3                0   \n",
       "3  I love, love, love this jumpsuit. it's fun, fl...       5                1   \n",
       "4  This shirt is very flattering to all due to th...       5                1   \n",
       "\n",
       "   Positive Feedback Count   Division Name Department Name Class Name  \\\n",
       "0                        0       Initmates        Intimate  Intimates   \n",
       "1                        4         General         Dresses    Dresses   \n",
       "2                        0         General         Dresses    Dresses   \n",
       "3                        0  General Petite         Bottoms      Pants   \n",
       "4                        6         General            Tops    Blouses   \n",
       "\n",
       "   char_length_RT  word_count_RT  avg_word  stopwords_len  spec_char  \\\n",
       "0              53              8  5.750000              2          0   \n",
       "1             303             67  3.822581             30          1   \n",
       "2             500             98  4.112245             45          1   \n",
       "3             124             22  4.681818              6          2   \n",
       "4             192             36  4.361111             19          1   \n",
       "\n",
       "                                              RT_new      sent  \\\n",
       "0        absolutely wonderful silky sexy comfortable  0.633333   \n",
       "1  love dress sooo pretty happened store im glad ...  0.339583   \n",
       "2  high hopes dress really wanted work initially ...  0.073675   \n",
       "3  love love love jumpsuit fun flirty fabulous ti...  0.550000   \n",
       "4  shirt flattering adjustable tie perfect length...  0.512891   \n",
       "\n",
       "         Sentiment  \n",
       "0  Strong Positive  \n",
       "1         Positive  \n",
       "2          Neutral  \n",
       "3         Positive  \n",
       "4         Positive  "
      ]
     },
     "execution_count": 3,
     "metadata": {},
     "output_type": "execute_result"
    }
   ],
   "source": [
    "rev_new.head()"
   ]
  },
  {
   "cell_type": "markdown",
   "metadata": {},
   "source": [
    "#### Preprocessing\n",
    "\n",
    "The first step to use machine learning technique and develop a prediction model is to preprocess the data.\n",
    "Scikit-learn does not accept non-numerical features, so I need to create dummy variables and also to replace all NaN values. "
   ]
  },
  {
   "cell_type": "code",
   "execution_count": 3,
   "metadata": {},
   "outputs": [],
   "source": [
    "def pre_process_data(df): #, enforce_cols=None):\n",
    "    print(\"Input shape:\\t{}\".format(df.shape))\n",
    "        \n",
    "        \n",
    "    # create dummy variables for categoricals\n",
    "    df = pd.get_dummies(df)\n",
    "    print(\"After converting categoricals:\\t{}\".format(df.shape))\n",
    "    \n",
    "    #Handling missing data: replace all NaN elements with 0s\n",
    "    df.fillna(0, inplace=True)\n",
    "    \n",
    "    return df"
   ]
  },
  {
   "cell_type": "code",
   "execution_count": 4,
   "metadata": {},
   "outputs": [],
   "source": [
    "to_drop = ['Title', 'Review Text', 'RT_new']\n",
    "df = rev_new.drop(to_drop, axis=1)"
   ]
  },
  {
   "cell_type": "code",
   "execution_count": 61,
   "metadata": {},
   "outputs": [
    {
     "name": "stdout",
     "output_type": "stream",
     "text": [
      "Input shape:\t(22641, 14)\n",
      "After converting categoricals:\t(22641, 44)\n"
     ]
    },
    {
     "data": {
      "image/png": "[encoded data removed]",
      "text/plain": [
       "<Figure size 864x720 with 1 Axes>"
      ]
     },
     "metadata": {},
     "output_type": "display_data"
    }
   ],
   "source": [
    "X = pre_process_data(df.drop('Rating', axis=1))\n",
    "y = df.Rating \n",
    "\n",
    "#SEED = 1\n",
    "# Split dataset into 70% train and 30% test\n",
    "X_train, X_test, y_train, y_test = train_test_split(X, y,test_size=0.3)\n",
    "\n",
    "# Import RandomForestRegressor\n",
    "from sklearn.ensemble import RandomForestRegressor\n",
    "\n",
    "# Instantiate rf\n",
    "rf = RandomForestRegressor(n_estimators=25,\n",
    "            random_state=2)\n",
    "            \n",
    "# Fit rf to the training set    \n",
    "rf.fit(X_train, y_train)\n",
    "\n",
    "\n",
    "# Predict the test set labels\n",
    "y_pred = rf.predict(X_test)\n",
    "\n",
    "\n",
    "# Create a pd.Series of features importances\n",
    "importances = pd.Series(data=rf.feature_importances_, index= X_train.columns)\n",
    "\n",
    "# Sort importances\n",
    "importances_sorted = importances.sort_values()\n",
    "\n",
    "# Draw a horizontal barplot of importances_sorted\n",
    "plt.subplots(figsize=(12,10))\n",
    "importances_sorted.plot(kind='barh', color='lightgreen')\n",
    "plt.title('Features Importances')\n",
    "#plt.savefig('feature_selection.jpg', bbox_inches= 'tight')\n",
    "plt.show()\n"
   ]
  },
  {
   "cell_type": "markdown",
   "metadata": {},
   "source": [
    "As expected, the most importance feature to predict rating score is 'Recommeded IND'."
   ]
  },
  {
   "cell_type": "markdown",
   "metadata": {},
   "source": [
    "Now, we compare different models calculating the accuracy on training and test data. "
   ]
  },
  {
   "cell_type": "code",
   "execution_count": 62,
   "metadata": {},
   "outputs": [
    {
     "name": "stdout",
     "output_type": "stream",
     "text": [
      "Accuracy on training data:  0.6326350328117113\n",
      "Accuracy on test data:  0.6371264537023407\n"
     ]
    }
   ],
   "source": [
    "SEED = 1\n",
    "# Split dataset into 70% train and 30% test\n",
    "X_train, X_test, y_train, y_test = train_test_split(X, y,test_size=0.3,random_state=SEED)\n",
    "\n",
    "# Training our model: random forest classifier\n",
    "#ran = RandomForestClassifier(n_estimators=50, random_state=0)\n",
    "ran = RandomForestClassifier(n_estimators=40, max_depth=6, random_state=0)\n",
    "\n",
    "# Fit the model to the training data\n",
    "mod1 = ran.fit(X_train, y_train)\n",
    "\n",
    "#Print the accuracy scores for the training and test sets\n",
    "training_accuracy = ran.score(X_train, y_train)\n",
    "test_accuracy = ran.score(X_test, y_test)\n",
    "print (\"Accuracy on training data: \", training_accuracy)\n",
    "print (\"Accuracy on test data: \", test_accuracy)\n"
   ]
  },
  {
   "cell_type": "code",
   "execution_count": 63,
   "metadata": {},
   "outputs": [
    {
     "name": "stdout",
     "output_type": "stream",
     "text": [
      "Accuracy on training data:  0.6267036850075719\n",
      "Accuracy on test data:  0.6325629324304431\n"
     ]
    }
   ],
   "source": [
    "# Training our model:\n",
    "log=LogisticRegression()\n",
    "\n",
    "# Fit the model to the training data\n",
    "mod = log.fit(X_train, y_train)\n",
    "\n",
    "#Print the accuracy scores for the training and test sets\n",
    "training_accuracy = log.score(X_train, y_train)\n",
    "test_accuracy = log.score(X_test, y_test)\n",
    "print (\"Accuracy on training data: \", training_accuracy)\n",
    "print (\"Accuracy on test data: \", test_accuracy)"
   ]
  },
  {
   "cell_type": "code",
   "execution_count": 64,
   "metadata": {},
   "outputs": [
    {
     "name": "stdout",
     "output_type": "stream",
     "text": [
      "Accuracy on training data:  0.48674911660777387\n",
      "Accuracy on test data:  0.496687766818784\n"
     ]
    }
   ],
   "source": [
    "# Training our model:\n",
    "svc=LinearSVC()\n",
    "\n",
    "# Fit the model to the training data\n",
    "mod3 = svc.fit(X_train, y_train)\n",
    "\n",
    "#Print the accuracy scores for the training and test sets\n",
    "training_accuracy = svc.score(X_train, y_train)\n",
    "test_accuracy = svc.score(X_test, y_test)\n",
    "print (\"Accuracy on training data: \", training_accuracy)\n",
    "print (\"Accuracy on test data: \", test_accuracy)"
   ]
  },
  {
   "cell_type": "code",
   "execution_count": 65,
   "metadata": {},
   "outputs": [
    {
     "name": "stdout",
     "output_type": "stream",
     "text": [
      "Accuracy on training data:  0.9998107016658253\n",
      "Accuracy on test data:  0.6097453260709554\n"
     ]
    }
   ],
   "source": [
    "from sklearn.tree import DecisionTreeClassifier\n",
    "from sklearn.ensemble import BaggingClassifier\n",
    "\n",
    "# Instantiate dt\n",
    "dt = DecisionTreeClassifier(random_state=1)\n",
    "\n",
    "# Instantiate bc\n",
    "bc = BaggingClassifier(base_estimator=dt, n_estimators=50, random_state=1)\n",
    "\n",
    "# Training our model\n",
    "bag = BaggingClassifier(n_estimators=50, random_state=0)\n",
    "\n",
    "# Fit the model to the training data\n",
    "mod4 = bag.fit(X_train, y_train)\n",
    "\n",
    "#Print the accuracy scores for the training sets\n",
    "training_accuracy = bag.score(X_train, y_train)\n",
    "test_accuracy = bag.score(X_test, y_test)\n",
    "print (\"Accuracy on training data: \", training_accuracy)\n",
    "print (\"Accuracy on test data: \", test_accuracy)\n"
   ]
  },
  {
   "cell_type": "code",
   "execution_count": 66,
   "metadata": {},
   "outputs": [
    {
     "name": "stdout",
     "output_type": "stream",
     "text": [
      "[5 5 5 ... 5 5 5]\n"
     ]
    }
   ],
   "source": [
    "# Predict test set labels\n",
    "predict = mod1.predict(X_test)\n",
    "print (predict)"
   ]
  },
  {
   "cell_type": "markdown",
   "metadata": {},
   "source": [
    "In this case, the Random Forest is the best model to predict rating from all the features."
   ]
  },
  {
   "cell_type": "markdown",
   "metadata": {},
   "source": [
    "### Logistic Regression: Rating and Recommended IND"
   ]
  },
  {
   "cell_type": "code",
   "execution_count": 12,
   "metadata": {},
   "outputs": [
    {
     "name": "stdout",
     "output_type": "stream",
     "text": [
      "Accuracy on training data:  0.6210878344270571\n",
      "Accuracy on test data:  0.636979243338731\n",
      "Confusion Matrix\n",
      "[[   0    0  221    0    6]\n",
      " [   0    0  429    0   33]\n",
      " [   0    0  541    0  333]\n",
      " [   0    0   50    0 1388]\n",
      " [   0    0    6    0 3786]]\n",
      "\n",
      " \n",
      "\n",
      "        Classification Report\n",
      "\n",
      " \n",
      "             precision    recall  f1-score   support\n",
      "\n",
      "          1       0.00      0.00      0.00       227\n",
      "          2       0.00      0.00      0.00       462\n",
      "          3       0.43      0.62      0.51       874\n",
      "          4       0.00      0.00      0.00      1438\n",
      "          5       0.68      1.00      0.81      3792\n",
      "\n",
      "avg / total       0.44      0.64      0.52      6793\n",
      "\n"
     ]
    },
    {
     "name": "stderr",
     "output_type": "stream",
     "text": [
      "C:\\Users\\USER\\Anaconda3\\lib\\site-packages\\sklearn\\utils\\validation.py:578: DataConversionWarning: A column-vector y was passed when a 1d array was expected. Please change the shape of y to (n_samples, ), for example using ravel().\n",
      "  y = column_or_1d(y, warn=True)\n",
      "C:\\Users\\USER\\Anaconda3\\lib\\site-packages\\sklearn\\metrics\\classification.py:1135: UndefinedMetricWarning: Precision and F-score are ill-defined and being set to 0.0 in labels with no predicted samples.\n",
      "  'precision', 'predicted', average, warn_for)\n"
     ]
    }
   ],
   "source": [
    "X = df['Recommended IND'].values.reshape(-1,1)\n",
    "y = df['Rating'].values.reshape(-1,1)\n",
    "\n",
    "# Split the dataset into training and test sets \n",
    "X_train, X_test, y_train, y_test = train_test_split(X, y, test_size=0.3, random_state=42)\n",
    "\n",
    "# Training our model\n",
    "# Logistic Regression\n",
    "log = LogisticRegression()\n",
    "log.fit(X_train, y_train)\n",
    "\n",
    "#Print the accuracy scores for the training and test sets\n",
    "training_accuracy = log.score(X_train, y_train)\n",
    "test_accuracy = log.score(X_test, y_test)\n",
    "print (\"Accuracy on training data: \", training_accuracy)\n",
    "print (\"Accuracy on test data: \", test_accuracy)\n",
    "\n",
    "\n",
    "# Testing and evaluating our model\n",
    "\n",
    "predicts = log.predict(X_test)\n",
    "\n",
    "# Evaluate the predictions against actual ratings \n",
    "\n",
    "\n",
    "print ('Confusion Matrix')\n",
    "print(confusion_matrix(y_test, predicts))\n",
    "print('\\n \\n')\n",
    "print ('        Classification Report')\n",
    "print('\\n ')\n",
    "print(classification_report(y_test, predicts))"
   ]
  },
  {
   "cell_type": "code",
   "execution_count": 13,
   "metadata": {},
   "outputs": [],
   "source": [
    "from sklearn.model_selection import KFold\n",
    "from sklearn.metrics import accuracy_score\n",
    "\n",
    "def cv_score(clf, x, y, score_func=accuracy_score):\n",
    "    result = 0\n",
    "    nfold = 5\n",
    "    for train, test in KFold(nfold).split(x): # split data into train/test groups, 5 times\n",
    "        clf.fit(x[train], y[train]) # fit\n",
    "        result += score_func(clf.predict(x[test]), y[test]) # evaluate score function on held-out data\n",
    "    return result / nfold # average"
   ]
  },
  {
   "cell_type": "code",
   "execution_count": 14,
   "metadata": {},
   "outputs": [
    {
     "name": "stderr",
     "output_type": "stream",
     "text": [
      "C:\\Users\\USER\\Anaconda3\\lib\\site-packages\\sklearn\\utils\\validation.py:578: DataConversionWarning: A column-vector y was passed when a 1d array was expected. Please change the shape of y to (n_samples, ), for example using ravel().\n",
      "  y = column_or_1d(y, warn=True)\n",
      "C:\\Users\\USER\\Anaconda3\\lib\\site-packages\\sklearn\\utils\\validation.py:578: DataConversionWarning: A column-vector y was passed when a 1d array was expected. Please change the shape of y to (n_samples, ), for example using ravel().\n",
      "  y = column_or_1d(y, warn=True)\n",
      "C:\\Users\\USER\\Anaconda3\\lib\\site-packages\\sklearn\\utils\\validation.py:578: DataConversionWarning: A column-vector y was passed when a 1d array was expected. Please change the shape of y to (n_samples, ), for example using ravel().\n",
      "  y = column_or_1d(y, warn=True)\n",
      "C:\\Users\\USER\\Anaconda3\\lib\\site-packages\\sklearn\\utils\\validation.py:578: DataConversionWarning: A column-vector y was passed when a 1d array was expected. Please change the shape of y to (n_samples, ), for example using ravel().\n",
      "  y = column_or_1d(y, warn=True)\n"
     ]
    },
    {
     "name": "stdout",
     "output_type": "stream",
     "text": [
      "0.6210886416417722\n"
     ]
    },
    {
     "name": "stderr",
     "output_type": "stream",
     "text": [
      "C:\\Users\\USER\\Anaconda3\\lib\\site-packages\\sklearn\\utils\\validation.py:578: DataConversionWarning: A column-vector y was passed when a 1d array was expected. Please change the shape of y to (n_samples, ), for example using ravel().\n",
      "  y = column_or_1d(y, warn=True)\n"
     ]
    }
   ],
   "source": [
    "clf = LogisticRegression()\n",
    "score = cv_score(clf, X_train, y_train)\n",
    "print(score)"
   ]
  },
  {
   "cell_type": "code",
   "execution_count": 15,
   "metadata": {},
   "outputs": [
    {
     "data": {
      "text/plain": [
       "array([[0.0011114 , 0.00505431, 0.06456084, 0.25801537, 0.67125808],\n",
       "       [0.0011114 , 0.00505431, 0.06456084, 0.25801537, 0.67125808],\n",
       "       [0.0011114 , 0.00505431, 0.06456084, 0.25801537, 0.67125808],\n",
       "       ...,\n",
       "       [0.0011114 , 0.00505431, 0.06456084, 0.25801537, 0.67125808],\n",
       "       [0.0011114 , 0.00505431, 0.06456084, 0.25801537, 0.67125808],\n",
       "       [0.2031731 , 0.35739317, 0.38829064, 0.04169262, 0.00945047]])"
      ]
     },
     "execution_count": 15,
     "metadata": {},
     "output_type": "execute_result"
    }
   ],
   "source": [
    "log.predict_proba(X_test)"
   ]
  },
  {
   "cell_type": "markdown",
   "metadata": {},
   "source": [
    "####  From rating score can I predict if a cloth is recommended or not?"
   ]
  },
  {
   "cell_type": "code",
   "execution_count": 16,
   "metadata": {},
   "outputs": [
    {
     "name": "stdout",
     "output_type": "stream",
     "text": [
      "Accuracy on training data:  0.9345027763755679\n",
      "Accuracy on test data:  0.936993964375092\n"
     ]
    },
    {
     "name": "stderr",
     "output_type": "stream",
     "text": [
      "C:\\Users\\USER\\Anaconda3\\lib\\site-packages\\sklearn\\utils\\validation.py:578: DataConversionWarning: A column-vector y was passed when a 1d array was expected. Please change the shape of y to (n_samples, ), for example using ravel().\n",
      "  y = column_or_1d(y, warn=True)\n"
     ]
    }
   ],
   "source": [
    "X = df['Rating'].values.reshape(-1,1)\n",
    "y = df['Recommended IND'].values.reshape(-1,1)\n",
    "\n",
    "\n",
    "# Split the dataset into training and test sets \n",
    "X_train, X_test, y_train, y_test = train_test_split(X, y, test_size=0.3, random_state=42)\n",
    "\n",
    "# Training our model\n",
    "# Logistic Regression\n",
    "log = LogisticRegression()\n",
    "log.fit(X_train, y_train)\n",
    "\n",
    "#Print the accuracy scores for the training and test sets\n",
    "training_accuracy = log.score(X_train, y_train)\n",
    "test_accuracy = log.score(X_test, y_test)\n",
    "print (\"Accuracy on training data: \", training_accuracy)\n",
    "print (\"Accuracy on test data: \", test_accuracy)\n",
    "\n",
    "\n",
    "# Testing and evaluating our model\n",
    "\n",
    "predicts = log.predict(X_test)\n"
   ]
  },
  {
   "cell_type": "code",
   "execution_count": 17,
   "metadata": {},
   "outputs": [
    {
     "data": {
      "image/png": "[encoded data removed]",
      "text/plain": [
       "<Figure size 432x288 with 1 Axes>"
      ]
     },
     "metadata": {},
     "output_type": "display_data"
    }
   ],
   "source": [
    "# Import necessary modules\n",
    "from sklearn.metrics import roc_curve\n",
    "# Compute predicted probabilities: y_pred_prob\n",
    "y_pred_prob = log.predict_proba(X_test)[:,1]\n",
    "# Generate ROC curve values: fpr, tpr, thresholds\n",
    "fpr, tpr, thresholds = roc_curve(y_test, y_pred_prob)\n",
    "# Plot ROC curve\n",
    "plt.plot([0, 1], [0, 1], 'k--')\n",
    "plt.plot(fpr, tpr)\n",
    "plt.xlabel('False Positive Rate')\n",
    "plt.ylabel('True Positive Rate')\n",
    "plt.title('ROC Curve')\n",
    "plt.savefig('ROC_curve.pdf', bbox_inches= 'tight')\n",
    "plt.show()"
   ]
  },
  {
   "cell_type": "code",
   "execution_count": 18,
   "metadata": {},
   "outputs": [
    {
     "name": "stdout",
     "output_type": "stream",
     "text": [
      "AUC: 0.9715568355759557\n"
     ]
    },
    {
     "name": "stderr",
     "output_type": "stream",
     "text": [
      "C:\\Users\\USER\\Anaconda3\\lib\\site-packages\\sklearn\\utils\\validation.py:578: DataConversionWarning: A column-vector y was passed when a 1d array was expected. Please change the shape of y to (n_samples, ), for example using ravel().\n",
      "  y = column_or_1d(y, warn=True)\n",
      "C:\\Users\\USER\\Anaconda3\\lib\\site-packages\\sklearn\\utils\\validation.py:578: DataConversionWarning: A column-vector y was passed when a 1d array was expected. Please change the shape of y to (n_samples, ), for example using ravel().\n",
      "  y = column_or_1d(y, warn=True)\n",
      "C:\\Users\\USER\\Anaconda3\\lib\\site-packages\\sklearn\\utils\\validation.py:578: DataConversionWarning: A column-vector y was passed when a 1d array was expected. Please change the shape of y to (n_samples, ), for example using ravel().\n",
      "  y = column_or_1d(y, warn=True)\n",
      "C:\\Users\\USER\\Anaconda3\\lib\\site-packages\\sklearn\\utils\\validation.py:578: DataConversionWarning: A column-vector y was passed when a 1d array was expected. Please change the shape of y to (n_samples, ), for example using ravel().\n",
      "  y = column_or_1d(y, warn=True)\n",
      "C:\\Users\\USER\\Anaconda3\\lib\\site-packages\\sklearn\\utils\\validation.py:578: DataConversionWarning: A column-vector y was passed when a 1d array was expected. Please change the shape of y to (n_samples, ), for example using ravel().\n",
      "  y = column_or_1d(y, warn=True)\n"
     ]
    },
    {
     "name": "stdout",
     "output_type": "stream",
     "text": [
      "AUC scores computed using 5-fold cross-validation: [0.97171044 0.97616179 0.96992511 0.97225149 0.97001506]\n"
     ]
    }
   ],
   "source": [
    "# Import necessary modules\n",
    "from sklearn.metrics import roc_auc_score\n",
    "from sklearn.model_selection import cross_val_score\n",
    "\n",
    "# Compute predicted probabilities: y_pred_prob\n",
    "y_pred_prob = log.predict_proba(X_test)[:,1]\n",
    "\n",
    "# Compute and print AUC score\n",
    "print(\"AUC: {}\".format(roc_auc_score(y_test, y_pred_prob)))\n",
    "\n",
    "# Compute cross-validated AUC scores: cv_auc\n",
    "cv_auc = cross_val_score(log, X, y, cv=5, scoring='roc_auc')\n",
    "\n",
    "# Print list of AUC scores\n",
    "print(\"AUC scores computed using 5-fold cross-validation: {}\".format(cv_auc))\n"
   ]
  },
  {
   "cell_type": "code",
   "execution_count": 19,
   "metadata": {},
   "outputs": [
    {
     "data": {
      "text/plain": [
       "0"
      ]
     },
     "execution_count": 19,
     "metadata": {},
     "output_type": "execute_result"
    }
   ],
   "source": [
    "test_no_rec=rev_new['Rating'][61]\n",
    "\n",
    "log.predict(test_no_rec)[0]"
   ]
  },
  {
   "cell_type": "code",
   "execution_count": 20,
   "metadata": {},
   "outputs": [
    {
     "data": {
      "text/plain": [
       "1"
      ]
     },
     "execution_count": 20,
     "metadata": {},
     "output_type": "execute_result"
    }
   ],
   "source": [
    "test_rec=rev_new['Rating'][7]\n",
    "\n",
    "log.predict(test_rec)[0]"
   ]
  },
  {
   "cell_type": "markdown",
   "metadata": {},
   "source": [
    "We test the predict model and it is work well!"
   ]
  },
  {
   "cell_type": "code",
   "execution_count": null,
   "metadata": {},
   "outputs": [],
   "source": []
  },
  {
   "cell_type": "code",
   "execution_count": null,
   "metadata": {},
   "outputs": [],
   "source": []
  },
  {
   "cell_type": "markdown",
   "metadata": {},
   "source": [
    "### Predict Rating from polarity score"
   ]
  },
  {
   "cell_type": "code",
   "execution_count": 21,
   "metadata": {},
   "outputs": [
    {
     "name": "stderr",
     "output_type": "stream",
     "text": [
      "C:\\Users\\USER\\Anaconda3\\lib\\site-packages\\sklearn\\utils\\validation.py:578: DataConversionWarning: A column-vector y was passed when a 1d array was expected. Please change the shape of y to (n_samples, ), for example using ravel().\n",
      "  y = column_or_1d(y, warn=True)\n",
      "C:\\Users\\USER\\Anaconda3\\lib\\site-packages\\sklearn\\utils\\validation.py:578: DataConversionWarning: A column-vector y was passed when a 1d array was expected. Please change the shape of y to (n_samples, ), for example using ravel().\n",
      "  y = column_or_1d(y, warn=True)\n"
     ]
    },
    {
     "name": "stdout",
     "output_type": "stream",
     "text": [
      "Accuracy on training data-LogisticRegression:  0.555022715800101\n",
      "Accuracy on test data-LogisticRegression:  0.5573384366259385\n",
      "#################################################\n",
      "Accuracy on training data-RandomForest:  0.5525618374558304\n",
      "Accuracy on test data-RandomForest:  0.5577800677167672\n"
     ]
    }
   ],
   "source": [
    "X = df['sent'].values.reshape(-1,1)\n",
    "y = df['Rating'].values.reshape(-1,1)\n",
    "\n",
    "\n",
    "# Split the dataset into training and test sets \n",
    "X_train, X_test, y_train, y_test = train_test_split(X, y, test_size=0.3, random_state=42)\n",
    "\n",
    "# Training our model\n",
    "# Logistic Regression\n",
    "log = LogisticRegression()\n",
    "log.fit(X_train, y_train)\n",
    "\n",
    "\n",
    "#Print the accuracy scores for the training and test sets\n",
    "training_accuracy = log.score(X_train, y_train)\n",
    "test_accuracy = log.score(X_test, y_test)\n",
    "print (\"Accuracy on training data-LogisticRegression: \", training_accuracy)\n",
    "print (\"Accuracy on test data-LogisticRegression: \", test_accuracy)\n",
    "\n",
    "\n",
    "\n",
    "print ('#################################################')\n",
    "\n",
    "svc = LinearSVC()\n",
    "svc.fit(X_train, y_train)\n",
    "\n",
    "#Print the accuracy scores for the training and test sets\n",
    "training_accuracy = svc.score(X_train, y_train)\n",
    "test_accuracy = svc.score(X_test, y_test)\n",
    "print (\"Accuracy on training data-RandomForest: \", training_accuracy)\n",
    "print (\"Accuracy on test data-RandomForest: \", test_accuracy)"
   ]
  },
  {
   "cell_type": "code",
   "execution_count": 22,
   "metadata": {},
   "outputs": [
    {
     "data": {
      "text/plain": [
       "array([[0.01152603, 0.03043673, 0.07586201, 0.19327813, 0.68889711],\n",
       "       [0.03025101, 0.06424722, 0.12649987, 0.23159401, 0.54740789],\n",
       "       [0.09257716, 0.14614044, 0.21206257, 0.25981105, 0.28940878],\n",
       "       ...,\n",
       "       [0.0153786 , 0.03810259, 0.08858177, 0.20431026, 0.65362677],\n",
       "       [0.03013797, 0.06406356, 0.12625674, 0.23144478, 0.54809696],\n",
       "       [0.03360677, 0.0696157 , 0.13348414, 0.23573876, 0.52755463]])"
      ]
     },
     "execution_count": 22,
     "metadata": {},
     "output_type": "execute_result"
    }
   ],
   "source": [
    "# Testing and evaluating our model\n",
    "\n",
    "predicts = log.predict(X_test)\n",
    "\n",
    "log.predict_proba(X_test)\n"
   ]
  },
  {
   "cell_type": "markdown",
   "metadata": {},
   "source": [
    "### Predict rating from Positive Feedback Count"
   ]
  },
  {
   "cell_type": "code",
   "execution_count": 23,
   "metadata": {},
   "outputs": [
    {
     "name": "stdout",
     "output_type": "stream",
     "text": [
      "Accuracy on training data-LogisticRegression:  0.551678445229682\n",
      "Accuracy on test data-LogisticRegression:  0.5582216988075961\n",
      "#################################################\n"
     ]
    },
    {
     "name": "stderr",
     "output_type": "stream",
     "text": [
      "C:\\Users\\USER\\Anaconda3\\lib\\site-packages\\sklearn\\utils\\validation.py:578: DataConversionWarning: A column-vector y was passed when a 1d array was expected. Please change the shape of y to (n_samples, ), for example using ravel().\n",
      "  y = column_or_1d(y, warn=True)\n",
      "C:\\Users\\USER\\Anaconda3\\lib\\site-packages\\ipykernel_launcher.py:28: DataConversionWarning: A column-vector y was passed when a 1d array was expected. Please change the shape of y to (n_samples,), for example using ravel().\n"
     ]
    },
    {
     "name": "stdout",
     "output_type": "stream",
     "text": [
      "Accuracy on training data-RandomForest:  0.5524987380111055\n",
      "Accuracy on test data-RandomForest:  0.5582216988075961\n"
     ]
    }
   ],
   "source": [
    "X = df['Positive Feedback Count'].values.reshape(-1,1)\n",
    "y = df['Rating'].values.reshape(-1,1)\n",
    "\n",
    "\n",
    "# Split the dataset into training and test sets \n",
    "X_train, X_test, y_train, y_test = train_test_split(X, y, test_size=0.3, random_state=42)\n",
    "\n",
    "# Training our model\n",
    "# Logistic Regression\n",
    "log = LogisticRegression()\n",
    "log.fit(X_train, y_train)\n",
    "\n",
    "\n",
    "#Print the accuracy scores for the training and test sets\n",
    "training_accuracy = log.score(X_train, y_train)\n",
    "test_accuracy = log.score(X_test, y_test)\n",
    "print (\"Accuracy on training data-LogisticRegression: \", training_accuracy)\n",
    "print (\"Accuracy on test data-LogisticRegression: \", test_accuracy)\n",
    "\n",
    "\n",
    "# Testing and evaluating our model\n",
    "\n",
    "predicts = log.predict(X_test)\n",
    "\n",
    "print ('#################################################')\n",
    "\n",
    "ran = RandomForestClassifier(n_estimators=40, max_depth=6)\n",
    "ran.fit(X_train, y_train)\n",
    "\n",
    "#Print the accuracy scores for the training and test sets\n",
    "training_accuracy = ran.score(X_train, y_train)\n",
    "test_accuracy = ran.score(X_test, y_test)\n",
    "print (\"Accuracy on training data-RandomForest: \", training_accuracy)\n",
    "print (\"Accuracy on test data-RandomForest: \", test_accuracy)"
   ]
  },
  {
   "cell_type": "markdown",
   "metadata": {},
   "source": [
    "### Predict Positive Feedback Count from Rating"
   ]
  },
  {
   "cell_type": "code",
   "execution_count": 24,
   "metadata": {},
   "outputs": [
    {
     "name": "stderr",
     "output_type": "stream",
     "text": [
      "C:\\Users\\USER\\Anaconda3\\lib\\site-packages\\sklearn\\utils\\validation.py:578: DataConversionWarning: A column-vector y was passed when a 1d array was expected. Please change the shape of y to (n_samples, ), for example using ravel().\n",
      "  y = column_or_1d(y, warn=True)\n"
     ]
    },
    {
     "name": "stdout",
     "output_type": "stream",
     "text": [
      "Accuracy on training data-LogisticRegression:  0.45469459868753154\n",
      "Accuracy on test data-LogisticRegression:  0.4600323862799941\n",
      "#################################################\n"
     ]
    },
    {
     "name": "stderr",
     "output_type": "stream",
     "text": [
      "C:\\Users\\USER\\Anaconda3\\lib\\site-packages\\ipykernel_launcher.py:28: DataConversionWarning: A column-vector y was passed when a 1d array was expected. Please change the shape of y to (n_samples,), for example using ravel().\n"
     ]
    },
    {
     "name": "stdout",
     "output_type": "stream",
     "text": [
      "Accuracy on training data-RandomForest:  0.45469459868753154\n",
      "Accuracy on test data-RandomForest:  0.4600323862799941\n"
     ]
    }
   ],
   "source": [
    "X = df['Rating'].values.reshape(-1,1)\n",
    "y = df['Positive Feedback Count'].values.reshape(-1,1)\n",
    "\n",
    "\n",
    "# Split the dataset into training and test sets \n",
    "X_train, X_test, y_train, y_test = train_test_split(X, y, test_size=0.3, random_state=42)\n",
    "\n",
    "# Training our model\n",
    "# Logistic Regression\n",
    "log = LogisticRegression()\n",
    "log.fit(X_train, y_train)\n",
    "\n",
    "\n",
    "#Print the accuracy scores for the training and test sets\n",
    "training_accuracy = log.score(X_train, y_train)\n",
    "test_accuracy = log.score(X_test, y_test)\n",
    "print (\"Accuracy on training data-LogisticRegression: \", training_accuracy)\n",
    "print (\"Accuracy on test data-LogisticRegression: \", test_accuracy)\n",
    "\n",
    "\n",
    "# Testing and evaluating our model\n",
    "\n",
    "predicts = log.predict(X_test)\n",
    "\n",
    "print ('#################################################')\n",
    "\n",
    "ran = RandomForestClassifier(n_estimators=40, max_depth=6, random_state=0)\n",
    "ran.fit(X_train, y_train)\n",
    "\n",
    "#Print the accuracy scores for the training and test sets\n",
    "training_accuracy = ran.score(X_train, y_train)\n",
    "test_accuracy = ran.score(X_test, y_test)\n",
    "print (\"Accuracy on training data-RandomForest: \", training_accuracy)\n",
    "print (\"Accuracy on test data-RandomForest: \", test_accuracy)"
   ]
  },
  {
   "cell_type": "markdown",
   "metadata": {},
   "source": [
    "### Predict rating from Clothing ID "
   ]
  },
  {
   "cell_type": "code",
   "execution_count": 25,
   "metadata": {},
   "outputs": [
    {
     "name": "stderr",
     "output_type": "stream",
     "text": [
      "C:\\Users\\USER\\Anaconda3\\lib\\site-packages\\ipykernel_launcher.py:10: DataConversionWarning: A column-vector y was passed when a 1d array was expected. Please change the shape of y to (n_samples,), for example using ravel().\n",
      "  # Remove the CWD from sys.path while we load stuff.\n"
     ]
    },
    {
     "name": "stdout",
     "output_type": "stream",
     "text": [
      "Accuracy on training data:  0.5519939424533065\n",
      "Accuracy on test data:  0.5582216988075961\n"
     ]
    }
   ],
   "source": [
    "X = rev_new['Clothing ID'].values.reshape(-1,1)\n",
    "y = rev_new['Rating'].values.reshape(-1,1)\n",
    "\n",
    "# Split the dataset into training and test sets \n",
    "X_train, X_test, y_train, y_test = train_test_split(X, y, test_size=0.3, random_state=42)\n",
    "\n",
    "# Training our model\n",
    "\n",
    "ran = RandomForestClassifier(n_estimators=40, max_depth=6, random_state=0)\n",
    "ran.fit(X_train, y_train)\n",
    "\n",
    "#Print the accuracy scores for the training and test sets\n",
    "training_accuracy = ran.score(X_train, y_train)\n",
    "test_accuracy = ran.score(X_test, y_test)\n",
    "print (\"Accuracy on training data: \", training_accuracy)\n",
    "print (\"Accuracy on test data: \", test_accuracy)\n",
    "\n",
    "\n",
    "# Testing and evaluating our model\n",
    "\n",
    "predicts = ran.predict(X_test)"
   ]
  },
  {
   "cell_type": "code",
   "execution_count": 26,
   "metadata": {},
   "outputs": [
    {
     "data": {
      "text/plain": [
       "5"
      ]
     },
     "execution_count": 26,
     "metadata": {},
     "output_type": "execute_result"
    }
   ],
   "source": [
    "test_rec=rev_new['Clothing ID'][61]\n",
    "\n",
    "ran.predict(test_rec)[0]"
   ]
  },
  {
   "cell_type": "markdown",
   "metadata": {},
   "source": [
    "Not very good!"
   ]
  },
  {
   "cell_type": "markdown",
   "metadata": {},
   "source": [
    "### Predict rating from age"
   ]
  },
  {
   "cell_type": "code",
   "execution_count": 27,
   "metadata": {},
   "outputs": [
    {
     "name": "stderr",
     "output_type": "stream",
     "text": [
      "C:\\Users\\USER\\Anaconda3\\lib\\site-packages\\ipykernel_launcher.py:10: DataConversionWarning: A column-vector y was passed when a 1d array was expected. Please change the shape of y to (n_samples,), for example using ravel().\n",
      "  # Remove the CWD from sys.path while we load stuff.\n"
     ]
    },
    {
     "name": "stdout",
     "output_type": "stream",
     "text": [
      "Accuracy on training data:  0.5520570418980313\n",
      "Accuracy on test data:  0.5580744884439864\n"
     ]
    }
   ],
   "source": [
    "X = rev_new['Age'].values.reshape(-1,1)\n",
    "y = rev_new['Rating'].values.reshape(-1,1)\n",
    "\n",
    "# Split the dataset into training and test sets \n",
    "X_train, X_test, y_train, y_test = train_test_split(X, y, test_size=0.3, random_state=42)\n",
    "\n",
    "# Training our model\n",
    "RandomForestClassifier(n_estimators=50)\n",
    "#log = LogisticRegression()\n",
    "ran.fit(X_train, y_train)\n",
    "\n",
    "#Print the accuracy scores for the training and test sets\n",
    "training_accuracy = ran.score(X_train, y_train)\n",
    "test_accuracy = ran.score(X_test, y_test)\n",
    "print (\"Accuracy on training data: \", training_accuracy)\n",
    "print (\"Accuracy on test data: \", test_accuracy)\n",
    "\n",
    "\n",
    "# Testing and evaluating our model\n",
    "\n",
    "predicts = ran.predict(X_test)"
   ]
  },
  {
   "cell_type": "markdown",
   "metadata": {},
   "source": [
    "### Predict rating from special characters "
   ]
  },
  {
   "cell_type": "code",
   "execution_count": 28,
   "metadata": {},
   "outputs": [
    {
     "name": "stderr",
     "output_type": "stream",
     "text": [
      "C:\\Users\\USER\\Anaconda3\\lib\\site-packages\\ipykernel_launcher.py:10: DataConversionWarning: A column-vector y was passed when a 1d array was expected. Please change the shape of y to (n_samples,), for example using ravel().\n",
      "  # Remove the CWD from sys.path while we load stuff.\n"
     ]
    },
    {
     "name": "stdout",
     "output_type": "stream",
     "text": [
      "Accuracy on training data:  0.5519939424533065\n",
      "Accuracy on test data:  0.5582216988075961\n"
     ]
    }
   ],
   "source": [
    "X = rev_new['spec_char'].values.reshape(-1,1)\n",
    "y = rev_new['Rating'].values.reshape(-1,1)\n",
    "\n",
    "# Split the dataset into training and test sets \n",
    "X_train, X_test, y_train, y_test = train_test_split(X, y, test_size=0.3, random_state=42)\n",
    "\n",
    "# Training our model\n",
    "ran = RandomForestClassifier(n_estimators=50)\n",
    "#log = LogisticRegression()\n",
    "ran.fit(X_train, y_train)\n",
    "\n",
    "#Print the accuracy scores for the training and test sets\n",
    "training_accuracy = ran.score(X_train, y_train)\n",
    "test_accuracy = ran.score(X_test, y_test)\n",
    "print (\"Accuracy on training data: \", training_accuracy)\n",
    "print (\"Accuracy on test data: \", test_accuracy)\n",
    "\n",
    "\n",
    "# Testing and evaluating our model\n",
    "\n",
    "predicts = ran.predict(X_test)"
   ]
  },
  {
   "cell_type": "markdown",
   "metadata": {},
   "source": [
    "### Predict rating from Avg word  "
   ]
  },
  {
   "cell_type": "code",
   "execution_count": 29,
   "metadata": {},
   "outputs": [
    {
     "name": "stderr",
     "output_type": "stream",
     "text": [
      "C:\\Users\\USER\\Anaconda3\\lib\\site-packages\\ipykernel_launcher.py:10: DataConversionWarning: A column-vector y was passed when a 1d array was expected. Please change the shape of y to (n_samples,), for example using ravel().\n",
      "  # Remove the CWD from sys.path while we load stuff.\n"
     ]
    },
    {
     "name": "stdout",
     "output_type": "stream",
     "text": [
      "Accuracy on training data:  0.6150933871781928\n",
      "Accuracy on test data:  0.49506845281907846\n"
     ]
    }
   ],
   "source": [
    "X = rev_new['avg_word'].values.reshape(-1,1)\n",
    "y = rev_new['Rating'].values.reshape(-1,1)\n",
    "\n",
    "# Split the dataset into training and test sets \n",
    "X_train, X_test, y_train, y_test = train_test_split(X, y, test_size=0.3, random_state=42)\n",
    "\n",
    "# Training our model\n",
    "ran = RandomForestClassifier(n_estimators=50)\n",
    "#log = LogisticRegression()\n",
    "ran.fit(X_train, y_train)\n",
    "\n",
    "#Print the accuracy scores for the training and test sets\n",
    "training_accuracy = ran.score(X_train, y_train)\n",
    "test_accuracy = ran.score(X_test, y_test)\n",
    "print (\"Accuracy on training data: \", training_accuracy)\n",
    "print (\"Accuracy on test data: \", test_accuracy)\n",
    "\n",
    "\n",
    "# Testing and evaluating our model\n",
    "\n",
    "predicts = ran.predict(X_test)\n"
   ]
  },
  {
   "cell_type": "code",
   "execution_count": 30,
   "metadata": {},
   "outputs": [
    {
     "name": "stdout",
     "output_type": "stream",
     "text": [
      "Accuracy on training data:  0.5519939424533065\n",
      "Accuracy on test data:  0.5582216988075961\n"
     ]
    },
    {
     "name": "stderr",
     "output_type": "stream",
     "text": [
      "C:\\Users\\USER\\Anaconda3\\lib\\site-packages\\sklearn\\utils\\validation.py:578: DataConversionWarning: A column-vector y was passed when a 1d array was expected. Please change the shape of y to (n_samples, ), for example using ravel().\n",
      "  y = column_or_1d(y, warn=True)\n"
     ]
    }
   ],
   "source": [
    "X = rev_new['avg_word'].values.reshape(-1,1)\n",
    "y = rev_new['Rating'].values.reshape(-1,1)\n",
    "\n",
    "# Split the dataset into training and test sets \n",
    "X_train, X_test, y_train, y_test = train_test_split(X, y, test_size=0.3, random_state=42)\n",
    "\n",
    "# Training our model\n",
    "#ran = RandomForestClassifier(n_estimators=50)\n",
    "log = LogisticRegression()\n",
    "\n",
    "log.fit(X_train, y_train)\n",
    "\n",
    "#Print the accuracy scores for the training and test sets\n",
    "training_accuracy = log.score(X_train, y_train)\n",
    "test_accuracy = log.score(X_test, y_test)\n",
    "print (\"Accuracy on training data: \", training_accuracy)\n",
    "print (\"Accuracy on test data: \", test_accuracy)\n",
    "\n",
    "\n",
    "# Testing and evaluating our model\n",
    "\n",
    "predicts = log.predict(X_test)"
   ]
  },
  {
   "cell_type": "markdown",
   "metadata": {},
   "source": [
    "It's better the Logistic regression model because the random forest is overfitting"
   ]
  },
  {
   "cell_type": "markdown",
   "metadata": {},
   "source": [
    "### Predict rating from Division Name"
   ]
  },
  {
   "cell_type": "code",
   "execution_count": 31,
   "metadata": {},
   "outputs": [],
   "source": [
    "division_enc = pd.get_dummies(rev_new['Division Name'])"
   ]
  },
  {
   "cell_type": "code",
   "execution_count": 32,
   "metadata": {},
   "outputs": [],
   "source": [
    "df_div = pd.concat([rev_new[['Rating']], division_enc], axis=1)"
   ]
  },
  {
   "cell_type": "code",
   "execution_count": 33,
   "metadata": {},
   "outputs": [
    {
     "name": "stdout",
     "output_type": "stream",
     "text": [
      "Accuracy on training data:  0.5913679959616356\n",
      "Accuracy on test data:  0.5878109818931253\n"
     ]
    }
   ],
   "source": [
    "X = df_div[['Rating']]#.values.reshape(-1,1)\n",
    "y = df_div.drop(['Rating'], axis=1) #.values.reshape(-1,1)\n",
    "\n",
    "# Split the dataset into training and test sets \n",
    "X_train, X_test, y_train, y_test = train_test_split(X, y, test_size=0.3, random_state=42)\n",
    "\n",
    "# Training our model\n",
    "ran = RandomForestClassifier(n_estimators=50)\n",
    "\n",
    "ran.fit(X_train, y_train)\n",
    "\n",
    "#Print the accuracy scores for the training and test sets\n",
    "training_accuracy = ran.score(X_train, y_train)\n",
    "test_accuracy = ran.score(X_test, y_test)\n",
    "print (\"Accuracy on training data: \", training_accuracy)\n",
    "print (\"Accuracy on test data: \", test_accuracy)\n",
    "\n",
    "\n",
    "# Testing and evaluating our model\n",
    "\n",
    "predicts = ran.predict(X_test)\n"
   ]
  },
  {
   "cell_type": "markdown",
   "metadata": {},
   "source": [
    "## Text and rating and recommended items"
   ]
  },
  {
   "cell_type": "code",
   "execution_count": 5,
   "metadata": {},
   "outputs": [
    {
     "data": {
      "text/html": [
       "<div>\n",
       "<style scoped>\n",
       "    .dataframe tbody tr th:only-of-type {\n",
       "        vertical-align: middle;\n",
       "    }\n",
       "\n",
       "    .dataframe tbody tr th {\n",
       "        vertical-align: top;\n",
       "    }\n",
       "\n",
       "    .dataframe thead th {\n",
       "        text-align: right;\n",
       "    }\n",
       "</style>\n",
       "<table border=\"1\" class=\"dataframe\">\n",
       "  <thead>\n",
       "    <tr style=\"text-align: right;\">\n",
       "      <th></th>\n",
       "      <th>Clothing ID</th>\n",
       "      <th>Age</th>\n",
       "      <th>Title</th>\n",
       "      <th>Review Text</th>\n",
       "      <th>Rating</th>\n",
       "      <th>Recommended IND</th>\n",
       "      <th>Positive Feedback Count</th>\n",
       "      <th>Division Name</th>\n",
       "      <th>Department Name</th>\n",
       "      <th>Class Name</th>\n",
       "      <th>char_length_RT</th>\n",
       "      <th>word_count_RT</th>\n",
       "      <th>avg_word</th>\n",
       "      <th>stopwords_len</th>\n",
       "      <th>spec_char</th>\n",
       "      <th>RT_new</th>\n",
       "      <th>sent</th>\n",
       "      <th>Sentiment</th>\n",
       "      <th>Filtered_RT</th>\n",
       "    </tr>\n",
       "  </thead>\n",
       "  <tbody>\n",
       "    <tr>\n",
       "      <th>0</th>\n",
       "      <td>767</td>\n",
       "      <td>33</td>\n",
       "      <td>NaN</td>\n",
       "      <td>Absolutely wonderful - silky and sexy and comf...</td>\n",
       "      <td>4</td>\n",
       "      <td>1</td>\n",
       "      <td>0</td>\n",
       "      <td>Initmates</td>\n",
       "      <td>Intimate</td>\n",
       "      <td>Intimates</td>\n",
       "      <td>53</td>\n",
       "      <td>8</td>\n",
       "      <td>5.750000</td>\n",
       "      <td>2</td>\n",
       "      <td>0</td>\n",
       "      <td>absolutely wonderful silky sexy comfortable</td>\n",
       "      <td>0.633333</td>\n",
       "      <td>Strong Positive</td>\n",
       "      <td>[absolutely, wonderful, silky, sexy, comfortable]</td>\n",
       "    </tr>\n",
       "    <tr>\n",
       "      <th>1</th>\n",
       "      <td>1080</td>\n",
       "      <td>34</td>\n",
       "      <td>NaN</td>\n",
       "      <td>Love this dress!  it's sooo pretty.  i happene...</td>\n",
       "      <td>5</td>\n",
       "      <td>1</td>\n",
       "      <td>4</td>\n",
       "      <td>General</td>\n",
       "      <td>Dresses</td>\n",
       "      <td>Dresses</td>\n",
       "      <td>303</td>\n",
       "      <td>67</td>\n",
       "      <td>3.822581</td>\n",
       "      <td>30</td>\n",
       "      <td>1</td>\n",
       "      <td>love dress sooo pretty happened store im glad ...</td>\n",
       "      <td>0.339583</td>\n",
       "      <td>Positive</td>\n",
       "      <td>[love, dress, sooo, pretty, happened, store, i...</td>\n",
       "    </tr>\n",
       "    <tr>\n",
       "      <th>2</th>\n",
       "      <td>1077</td>\n",
       "      <td>60</td>\n",
       "      <td>Some major design flaws</td>\n",
       "      <td>I had such high hopes for this dress and reall...</td>\n",
       "      <td>3</td>\n",
       "      <td>0</td>\n",
       "      <td>0</td>\n",
       "      <td>General</td>\n",
       "      <td>Dresses</td>\n",
       "      <td>Dresses</td>\n",
       "      <td>500</td>\n",
       "      <td>98</td>\n",
       "      <td>4.112245</td>\n",
       "      <td>45</td>\n",
       "      <td>1</td>\n",
       "      <td>high hopes dress really wanted work initially ...</td>\n",
       "      <td>0.073675</td>\n",
       "      <td>Neutral</td>\n",
       "      <td>[high, hope, dress, really, wanted, work, init...</td>\n",
       "    </tr>\n",
       "    <tr>\n",
       "      <th>3</th>\n",
       "      <td>1049</td>\n",
       "      <td>50</td>\n",
       "      <td>My favorite buy!</td>\n",
       "      <td>I love, love, love this jumpsuit. it's fun, fl...</td>\n",
       "      <td>5</td>\n",
       "      <td>1</td>\n",
       "      <td>0</td>\n",
       "      <td>General Petite</td>\n",
       "      <td>Bottoms</td>\n",
       "      <td>Pants</td>\n",
       "      <td>124</td>\n",
       "      <td>22</td>\n",
       "      <td>4.681818</td>\n",
       "      <td>6</td>\n",
       "      <td>2</td>\n",
       "      <td>love love love jumpsuit fun flirty fabulous ti...</td>\n",
       "      <td>0.550000</td>\n",
       "      <td>Positive</td>\n",
       "      <td>[love, love, love, jumpsuit, fun, flirty, fabu...</td>\n",
       "    </tr>\n",
       "    <tr>\n",
       "      <th>4</th>\n",
       "      <td>847</td>\n",
       "      <td>47</td>\n",
       "      <td>Flattering shirt</td>\n",
       "      <td>This shirt is very flattering to all due to th...</td>\n",
       "      <td>5</td>\n",
       "      <td>1</td>\n",
       "      <td>6</td>\n",
       "      <td>General</td>\n",
       "      <td>Tops</td>\n",
       "      <td>Blouses</td>\n",
       "      <td>192</td>\n",
       "      <td>36</td>\n",
       "      <td>4.361111</td>\n",
       "      <td>19</td>\n",
       "      <td>1</td>\n",
       "      <td>shirt flattering adjustable tie perfect length...</td>\n",
       "      <td>0.512891</td>\n",
       "      <td>Positive</td>\n",
       "      <td>[shirt, flattering, adjustable, tie, perfect, ...</td>\n",
       "    </tr>\n",
       "  </tbody>\n",
       "</table>\n",
       "</div>"
      ],
      "text/plain": [
       "   Clothing ID  Age                    Title  \\\n",
       "0          767   33                      NaN   \n",
       "1         1080   34                      NaN   \n",
       "2         1077   60  Some major design flaws   \n",
       "3         1049   50         My favorite buy!   \n",
       "4          847   47         Flattering shirt   \n",
       "\n",
       "                                         Review Text  Rating  Recommended IND  \\\n",
       "0  Absolutely wonderful - silky and sexy and comf...       4                1   \n",
       "1  Love this dress!  it's sooo pretty.  i happene...       5                1   \n",
       "2  I had such high hopes for this dress and reall...       3                0   \n",
       "3  I love, love, love this jumpsuit. it's fun, fl...       5                1   \n",
       "4  This shirt is very flattering to all due to th...       5                1   \n",
       "\n",
       "   Positive Feedback Count   Division Name Department Name Class Name  \\\n",
       "0                        0       Initmates        Intimate  Intimates   \n",
       "1                        4         General         Dresses    Dresses   \n",
       "2                        0         General         Dresses    Dresses   \n",
       "3                        0  General Petite         Bottoms      Pants   \n",
       "4                        6         General            Tops    Blouses   \n",
       "\n",
       "   char_length_RT  word_count_RT  avg_word  stopwords_len  spec_char  \\\n",
       "0              53              8  5.750000              2          0   \n",
       "1             303             67  3.822581             30          1   \n",
       "2             500             98  4.112245             45          1   \n",
       "3             124             22  4.681818              6          2   \n",
       "4             192             36  4.361111             19          1   \n",
       "\n",
       "                                              RT_new      sent  \\\n",
       "0        absolutely wonderful silky sexy comfortable  0.633333   \n",
       "1  love dress sooo pretty happened store im glad ...  0.339583   \n",
       "2  high hopes dress really wanted work initially ...  0.073675   \n",
       "3  love love love jumpsuit fun flirty fabulous ti...  0.550000   \n",
       "4  shirt flattering adjustable tie perfect length...  0.512891   \n",
       "\n",
       "         Sentiment                                        Filtered_RT  \n",
       "0  Strong Positive  [absolutely, wonderful, silky, sexy, comfortable]  \n",
       "1         Positive  [love, dress, sooo, pretty, happened, store, i...  \n",
       "2          Neutral  [high, hope, dress, really, wanted, work, init...  \n",
       "3         Positive  [love, love, love, jumpsuit, fun, flirty, fabu...  \n",
       "4         Positive  [shirt, flattering, adjustable, tie, perfect, ...  "
      ]
     },
     "execution_count": 5,
     "metadata": {},
     "output_type": "execute_result"
    }
   ],
   "source": [
    "# Instantiate the Word tokenizer & Word lemmatizer\n",
    "w_tokenizer = nltk.tokenize.WhitespaceTokenizer()\n",
    "lemmatizer = nltk.stem.WordNetLemmatizer()\n",
    "\n",
    "# Define a word lemmatizer function\n",
    "def lemmatize_text(text):\n",
    "    return [lemmatizer.lemmatize(w) for w in w_tokenizer.tokenize(text)]\n",
    "\n",
    "# Apply the word lemmatizer function to data\n",
    "rev_new['Filtered_RT'] = rev_new['RT_new'].apply(lemmatize_text)\n",
    "rev_new.head()"
   ]
  },
  {
   "cell_type": "code",
   "execution_count": 6,
   "metadata": {},
   "outputs": [
    {
     "data": {
      "text/plain": [
       "CountVectorizer(analyzer='word', binary=False, decode_error='strict',\n",
       "        dtype=<class 'numpy.int64'>, encoding='utf-8', input='content',\n",
       "        lowercase=False, max_df=0.9, max_features=None, min_df=0.04,\n",
       "        ngram_range=(1, 2), preprocessor=None, stop_words=None,\n",
       "        strip_accents=None, token_pattern='(?u)\\\\b\\\\w\\\\w+\\\\b',\n",
       "        tokenizer=<function <lambda> at 0x0000028135036378>,\n",
       "        vocabulary=None)"
      ]
     },
     "execution_count": 6,
     "metadata": {},
     "output_type": "execute_result"
    }
   ],
   "source": [
    "# Getting a count of words from the documents\n",
    "# Ngram_range is set to 1,2 - meaning either single or two word combination will be extracted\n",
    "cvec = CountVectorizer(min_df=.04, max_df=.9, ngram_range=(1,2), tokenizer=lambda doc: doc, lowercase=False)\n",
    "cvec.fit(rev_new['Filtered_RT'])"
   ]
  },
  {
   "cell_type": "code",
   "execution_count": 7,
   "metadata": {},
   "outputs": [
    {
     "name": "stdout",
     "output_type": "stream",
     "text": [
      "sparse matrix shape: (22641, 124)\n"
     ]
    }
   ],
   "source": [
    "# Creating the bag-of-words representation\n",
    "cvec_counts = cvec.transform(rev_new['Filtered_RT'])\n",
    "print('sparse matrix shape:', cvec_counts.shape)"
   ]
  },
  {
   "cell_type": "code",
   "execution_count": 8,
   "metadata": {},
   "outputs": [
    {
     "data": {
      "text/plain": [
       "<22641x124 sparse matrix of type '<class 'numpy.float64'>'\n",
       "\twith 252415 stored elements in Compressed Sparse Row format>"
      ]
     },
     "execution_count": 8,
     "metadata": {},
     "output_type": "execute_result"
    }
   ],
   "source": [
    "# Instantiating the TfidfTransformer\n",
    "transformer = TfidfTransformer()\n",
    "\n",
    "# Fitting and transforming n-grams\n",
    "transformed_weights = transformer.fit_transform(cvec_counts)\n",
    "transformed_weights"
   ]
  },
  {
   "cell_type": "code",
   "execution_count": 9,
   "metadata": {},
   "outputs": [
    {
     "data": {
      "text/html": [
       "<div>\n",
       "<style scoped>\n",
       "    .dataframe tbody tr th:only-of-type {\n",
       "        vertical-align: middle;\n",
       "    }\n",
       "\n",
       "    .dataframe tbody tr th {\n",
       "        vertical-align: top;\n",
       "    }\n",
       "\n",
       "    .dataframe thead th {\n",
       "        text-align: right;\n",
       "    }\n",
       "</style>\n",
       "<table border=\"1\" class=\"dataframe\">\n",
       "  <thead>\n",
       "    <tr style=\"text-align: right;\">\n",
       "      <th></th>\n",
       "      <th>arm</th>\n",
       "      <th>beautiful</th>\n",
       "      <th>better</th>\n",
       "      <th>big</th>\n",
       "      <th>bit</th>\n",
       "      <th>black</th>\n",
       "      <th>blue</th>\n",
       "      <th>body</th>\n",
       "      <th>bought</th>\n",
       "      <th>casual</th>\n",
       "      <th>...</th>\n",
       "      <th>wear</th>\n",
       "      <th>wearing</th>\n",
       "      <th>went</th>\n",
       "      <th>white</th>\n",
       "      <th>work</th>\n",
       "      <th>worn</th>\n",
       "      <th>x</th>\n",
       "      <th>Keyword</th>\n",
       "      <th>Max</th>\n",
       "      <th>Sum</th>\n",
       "    </tr>\n",
       "  </thead>\n",
       "  <tbody>\n",
       "    <tr>\n",
       "      <th>0</th>\n",
       "      <td>0.0</td>\n",
       "      <td>0.0</td>\n",
       "      <td>0.0</td>\n",
       "      <td>0.000000</td>\n",
       "      <td>0.000000</td>\n",
       "      <td>0.0</td>\n",
       "      <td>0.0</td>\n",
       "      <td>0.0</td>\n",
       "      <td>0.00000</td>\n",
       "      <td>0.0</td>\n",
       "      <td>...</td>\n",
       "      <td>0.000000</td>\n",
       "      <td>0.0</td>\n",
       "      <td>0.000000</td>\n",
       "      <td>0.0</td>\n",
       "      <td>0.000000</td>\n",
       "      <td>0.0</td>\n",
       "      <td>0.000000</td>\n",
       "      <td>comfortable</td>\n",
       "      <td>1.000000</td>\n",
       "      <td>1.000000</td>\n",
       "    </tr>\n",
       "    <tr>\n",
       "      <th>1</th>\n",
       "      <td>0.0</td>\n",
       "      <td>0.0</td>\n",
       "      <td>0.0</td>\n",
       "      <td>0.000000</td>\n",
       "      <td>0.000000</td>\n",
       "      <td>0.0</td>\n",
       "      <td>0.0</td>\n",
       "      <td>0.0</td>\n",
       "      <td>0.19417</td>\n",
       "      <td>0.0</td>\n",
       "      <td>...</td>\n",
       "      <td>0.000000</td>\n",
       "      <td>0.0</td>\n",
       "      <td>0.000000</td>\n",
       "      <td>0.0</td>\n",
       "      <td>0.000000</td>\n",
       "      <td>0.0</td>\n",
       "      <td>0.000000</td>\n",
       "      <td>petite</td>\n",
       "      <td>0.644406</td>\n",
       "      <td>3.466632</td>\n",
       "    </tr>\n",
       "    <tr>\n",
       "      <th>2</th>\n",
       "      <td>0.0</td>\n",
       "      <td>0.0</td>\n",
       "      <td>0.0</td>\n",
       "      <td>0.000000</td>\n",
       "      <td>0.000000</td>\n",
       "      <td>0.0</td>\n",
       "      <td>0.0</td>\n",
       "      <td>0.0</td>\n",
       "      <td>0.00000</td>\n",
       "      <td>0.0</td>\n",
       "      <td>...</td>\n",
       "      <td>0.000000</td>\n",
       "      <td>0.0</td>\n",
       "      <td>0.000000</td>\n",
       "      <td>0.0</td>\n",
       "      <td>0.206939</td>\n",
       "      <td>0.0</td>\n",
       "      <td>0.000000</td>\n",
       "      <td>small</td>\n",
       "      <td>0.533009</td>\n",
       "      <td>3.519209</td>\n",
       "    </tr>\n",
       "    <tr>\n",
       "      <th>3</th>\n",
       "      <td>0.0</td>\n",
       "      <td>0.0</td>\n",
       "      <td>0.0</td>\n",
       "      <td>0.000000</td>\n",
       "      <td>0.000000</td>\n",
       "      <td>0.0</td>\n",
       "      <td>0.0</td>\n",
       "      <td>0.0</td>\n",
       "      <td>0.00000</td>\n",
       "      <td>0.0</td>\n",
       "      <td>...</td>\n",
       "      <td>0.262051</td>\n",
       "      <td>0.0</td>\n",
       "      <td>0.000000</td>\n",
       "      <td>0.0</td>\n",
       "      <td>0.000000</td>\n",
       "      <td>0.0</td>\n",
       "      <td>0.000000</td>\n",
       "      <td>love</td>\n",
       "      <td>0.692527</td>\n",
       "      <td>2.094841</td>\n",
       "    </tr>\n",
       "    <tr>\n",
       "      <th>4</th>\n",
       "      <td>0.0</td>\n",
       "      <td>0.0</td>\n",
       "      <td>0.0</td>\n",
       "      <td>0.000000</td>\n",
       "      <td>0.000000</td>\n",
       "      <td>0.0</td>\n",
       "      <td>0.0</td>\n",
       "      <td>0.0</td>\n",
       "      <td>0.00000</td>\n",
       "      <td>0.0</td>\n",
       "      <td>...</td>\n",
       "      <td>0.237029</td>\n",
       "      <td>0.0</td>\n",
       "      <td>0.000000</td>\n",
       "      <td>0.0</td>\n",
       "      <td>0.000000</td>\n",
       "      <td>0.0</td>\n",
       "      <td>0.000000</td>\n",
       "      <td>shirt</td>\n",
       "      <td>0.677628</td>\n",
       "      <td>2.435643</td>\n",
       "    </tr>\n",
       "    <tr>\n",
       "      <th>5</th>\n",
       "      <td>0.0</td>\n",
       "      <td>0.0</td>\n",
       "      <td>0.0</td>\n",
       "      <td>0.000000</td>\n",
       "      <td>0.000000</td>\n",
       "      <td>0.0</td>\n",
       "      <td>0.0</td>\n",
       "      <td>0.0</td>\n",
       "      <td>0.00000</td>\n",
       "      <td>0.0</td>\n",
       "      <td>...</td>\n",
       "      <td>0.137975</td>\n",
       "      <td>0.0</td>\n",
       "      <td>0.000000</td>\n",
       "      <td>0.0</td>\n",
       "      <td>0.189047</td>\n",
       "      <td>0.0</td>\n",
       "      <td>0.000000</td>\n",
       "      <td>dress</td>\n",
       "      <td>0.525018</td>\n",
       "      <td>3.554618</td>\n",
       "    </tr>\n",
       "    <tr>\n",
       "      <th>6</th>\n",
       "      <td>0.0</td>\n",
       "      <td>0.0</td>\n",
       "      <td>0.0</td>\n",
       "      <td>0.000000</td>\n",
       "      <td>0.000000</td>\n",
       "      <td>0.0</td>\n",
       "      <td>0.0</td>\n",
       "      <td>0.0</td>\n",
       "      <td>0.00000</td>\n",
       "      <td>0.0</td>\n",
       "      <td>...</td>\n",
       "      <td>0.000000</td>\n",
       "      <td>0.0</td>\n",
       "      <td>0.322056</td>\n",
       "      <td>0.0</td>\n",
       "      <td>0.000000</td>\n",
       "      <td>0.0</td>\n",
       "      <td>0.272283</td>\n",
       "      <td>color</td>\n",
       "      <td>0.359226</td>\n",
       "      <td>3.660509</td>\n",
       "    </tr>\n",
       "    <tr>\n",
       "      <th>7</th>\n",
       "      <td>0.0</td>\n",
       "      <td>0.0</td>\n",
       "      <td>0.0</td>\n",
       "      <td>0.175721</td>\n",
       "      <td>0.310362</td>\n",
       "      <td>0.0</td>\n",
       "      <td>0.0</td>\n",
       "      <td>0.0</td>\n",
       "      <td>0.00000</td>\n",
       "      <td>0.0</td>\n",
       "      <td>...</td>\n",
       "      <td>0.000000</td>\n",
       "      <td>0.0</td>\n",
       "      <td>0.409486</td>\n",
       "      <td>0.0</td>\n",
       "      <td>0.000000</td>\n",
       "      <td>0.0</td>\n",
       "      <td>0.000000</td>\n",
       "      <td>went</td>\n",
       "      <td>0.409486</td>\n",
       "      <td>4.073674</td>\n",
       "    </tr>\n",
       "    <tr>\n",
       "      <th>8</th>\n",
       "      <td>0.0</td>\n",
       "      <td>0.0</td>\n",
       "      <td>0.0</td>\n",
       "      <td>0.000000</td>\n",
       "      <td>0.000000</td>\n",
       "      <td>0.0</td>\n",
       "      <td>0.0</td>\n",
       "      <td>0.0</td>\n",
       "      <td>0.00000</td>\n",
       "      <td>0.0</td>\n",
       "      <td>...</td>\n",
       "      <td>0.000000</td>\n",
       "      <td>0.0</td>\n",
       "      <td>0.000000</td>\n",
       "      <td>0.0</td>\n",
       "      <td>0.000000</td>\n",
       "      <td>0.0</td>\n",
       "      <td>0.354842</td>\n",
       "      <td>style</td>\n",
       "      <td>0.365140</td>\n",
       "      <td>3.264694</td>\n",
       "    </tr>\n",
       "    <tr>\n",
       "      <th>9</th>\n",
       "      <td>0.0</td>\n",
       "      <td>0.0</td>\n",
       "      <td>0.0</td>\n",
       "      <td>0.000000</td>\n",
       "      <td>0.000000</td>\n",
       "      <td>0.0</td>\n",
       "      <td>0.0</td>\n",
       "      <td>0.0</td>\n",
       "      <td>0.00000</td>\n",
       "      <td>0.0</td>\n",
       "      <td>...</td>\n",
       "      <td>0.142733</td>\n",
       "      <td>0.0</td>\n",
       "      <td>0.000000</td>\n",
       "      <td>0.0</td>\n",
       "      <td>0.195566</td>\n",
       "      <td>0.0</td>\n",
       "      <td>0.210837</td>\n",
       "      <td>petite</td>\n",
       "      <td>0.413165</td>\n",
       "      <td>4.308047</td>\n",
       "    </tr>\n",
       "  </tbody>\n",
       "</table>\n",
       "<p>10 rows × 127 columns</p>\n",
       "</div>"
      ],
      "text/plain": [
       "   arm  beautiful  better       big       bit  black  blue  body   bought  \\\n",
       "0  0.0        0.0     0.0  0.000000  0.000000    0.0   0.0   0.0  0.00000   \n",
       "1  0.0        0.0     0.0  0.000000  0.000000    0.0   0.0   0.0  0.19417   \n",
       "2  0.0        0.0     0.0  0.000000  0.000000    0.0   0.0   0.0  0.00000   \n",
       "3  0.0        0.0     0.0  0.000000  0.000000    0.0   0.0   0.0  0.00000   \n",
       "4  0.0        0.0     0.0  0.000000  0.000000    0.0   0.0   0.0  0.00000   \n",
       "5  0.0        0.0     0.0  0.000000  0.000000    0.0   0.0   0.0  0.00000   \n",
       "6  0.0        0.0     0.0  0.000000  0.000000    0.0   0.0   0.0  0.00000   \n",
       "7  0.0        0.0     0.0  0.175721  0.310362    0.0   0.0   0.0  0.00000   \n",
       "8  0.0        0.0     0.0  0.000000  0.000000    0.0   0.0   0.0  0.00000   \n",
       "9  0.0        0.0     0.0  0.000000  0.000000    0.0   0.0   0.0  0.00000   \n",
       "\n",
       "   casual    ...         wear  wearing      went  white      work  worn  \\\n",
       "0     0.0    ...     0.000000      0.0  0.000000    0.0  0.000000   0.0   \n",
       "1     0.0    ...     0.000000      0.0  0.000000    0.0  0.000000   0.0   \n",
       "2     0.0    ...     0.000000      0.0  0.000000    0.0  0.206939   0.0   \n",
       "3     0.0    ...     0.262051      0.0  0.000000    0.0  0.000000   0.0   \n",
       "4     0.0    ...     0.237029      0.0  0.000000    0.0  0.000000   0.0   \n",
       "5     0.0    ...     0.137975      0.0  0.000000    0.0  0.189047   0.0   \n",
       "6     0.0    ...     0.000000      0.0  0.322056    0.0  0.000000   0.0   \n",
       "7     0.0    ...     0.000000      0.0  0.409486    0.0  0.000000   0.0   \n",
       "8     0.0    ...     0.000000      0.0  0.000000    0.0  0.000000   0.0   \n",
       "9     0.0    ...     0.142733      0.0  0.000000    0.0  0.195566   0.0   \n",
       "\n",
       "          x      Keyword       Max       Sum  \n",
       "0  0.000000  comfortable  1.000000  1.000000  \n",
       "1  0.000000       petite  0.644406  3.466632  \n",
       "2  0.000000        small  0.533009  3.519209  \n",
       "3  0.000000         love  0.692527  2.094841  \n",
       "4  0.000000        shirt  0.677628  2.435643  \n",
       "5  0.000000        dress  0.525018  3.554618  \n",
       "6  0.272283        color  0.359226  3.660509  \n",
       "7  0.000000         went  0.409486  4.073674  \n",
       "8  0.354842        style  0.365140  3.264694  \n",
       "9  0.210837       petite  0.413165  4.308047  \n",
       "\n",
       "[10 rows x 127 columns]"
      ]
     },
     "execution_count": 9,
     "metadata": {},
     "output_type": "execute_result"
    }
   ],
   "source": [
    "# Getting a list of all n-grams\n",
    "transformed_weights = transformed_weights.toarray()\n",
    "vocab = cvec.get_feature_names()\n",
    "\n",
    "# Putting weighted n-grams into a DataFrame and computing some summary statistics\n",
    "model_text = pd.DataFrame(transformed_weights, columns=vocab)\n",
    "model_text['Keyword'] = model_text.idxmax(axis=1)\n",
    "model_text['Max'] = model_text.max(axis=1)\n",
    "model_text['Sum'] = model_text.drop('Max', axis=1).sum(axis=1)\n",
    "model_text.head(10)"
   ]
  },
  {
   "cell_type": "code",
   "execution_count": 10,
   "metadata": {},
   "outputs": [
    {
     "data": {
      "text/html": [
       "<div>\n",
       "<style scoped>\n",
       "    .dataframe tbody tr th:only-of-type {\n",
       "        vertical-align: middle;\n",
       "    }\n",
       "\n",
       "    .dataframe tbody tr th {\n",
       "        vertical-align: top;\n",
       "    }\n",
       "\n",
       "    .dataframe thead th {\n",
       "        text-align: right;\n",
       "    }\n",
       "</style>\n",
       "<table border=\"1\" class=\"dataframe\">\n",
       "  <thead>\n",
       "    <tr style=\"text-align: right;\">\n",
       "      <th></th>\n",
       "      <th>Rating</th>\n",
       "      <th>arm</th>\n",
       "      <th>beautiful</th>\n",
       "      <th>better</th>\n",
       "      <th>big</th>\n",
       "      <th>bit</th>\n",
       "      <th>black</th>\n",
       "      <th>blue</th>\n",
       "      <th>body</th>\n",
       "      <th>bought</th>\n",
       "      <th>...</th>\n",
       "      <th>wear</th>\n",
       "      <th>wearing</th>\n",
       "      <th>went</th>\n",
       "      <th>white</th>\n",
       "      <th>work</th>\n",
       "      <th>worn</th>\n",
       "      <th>x</th>\n",
       "      <th>Keyword</th>\n",
       "      <th>Max</th>\n",
       "      <th>Sum</th>\n",
       "    </tr>\n",
       "  </thead>\n",
       "  <tbody>\n",
       "    <tr>\n",
       "      <th>0</th>\n",
       "      <td>4.0</td>\n",
       "      <td>0.0</td>\n",
       "      <td>0.0</td>\n",
       "      <td>0.0</td>\n",
       "      <td>0.0</td>\n",
       "      <td>0.0</td>\n",
       "      <td>0.0</td>\n",
       "      <td>0.0</td>\n",
       "      <td>0.0</td>\n",
       "      <td>0.00000</td>\n",
       "      <td>...</td>\n",
       "      <td>0.000000</td>\n",
       "      <td>0.0</td>\n",
       "      <td>0.0</td>\n",
       "      <td>0.0</td>\n",
       "      <td>0.000000</td>\n",
       "      <td>0.0</td>\n",
       "      <td>0.0</td>\n",
       "      <td>comfortable</td>\n",
       "      <td>1.000000</td>\n",
       "      <td>1.000000</td>\n",
       "    </tr>\n",
       "    <tr>\n",
       "      <th>1</th>\n",
       "      <td>5.0</td>\n",
       "      <td>0.0</td>\n",
       "      <td>0.0</td>\n",
       "      <td>0.0</td>\n",
       "      <td>0.0</td>\n",
       "      <td>0.0</td>\n",
       "      <td>0.0</td>\n",
       "      <td>0.0</td>\n",
       "      <td>0.0</td>\n",
       "      <td>0.19417</td>\n",
       "      <td>...</td>\n",
       "      <td>0.000000</td>\n",
       "      <td>0.0</td>\n",
       "      <td>0.0</td>\n",
       "      <td>0.0</td>\n",
       "      <td>0.000000</td>\n",
       "      <td>0.0</td>\n",
       "      <td>0.0</td>\n",
       "      <td>petite</td>\n",
       "      <td>0.644406</td>\n",
       "      <td>3.466632</td>\n",
       "    </tr>\n",
       "    <tr>\n",
       "      <th>2</th>\n",
       "      <td>3.0</td>\n",
       "      <td>0.0</td>\n",
       "      <td>0.0</td>\n",
       "      <td>0.0</td>\n",
       "      <td>0.0</td>\n",
       "      <td>0.0</td>\n",
       "      <td>0.0</td>\n",
       "      <td>0.0</td>\n",
       "      <td>0.0</td>\n",
       "      <td>0.00000</td>\n",
       "      <td>...</td>\n",
       "      <td>0.000000</td>\n",
       "      <td>0.0</td>\n",
       "      <td>0.0</td>\n",
       "      <td>0.0</td>\n",
       "      <td>0.206939</td>\n",
       "      <td>0.0</td>\n",
       "      <td>0.0</td>\n",
       "      <td>small</td>\n",
       "      <td>0.533009</td>\n",
       "      <td>3.519209</td>\n",
       "    </tr>\n",
       "    <tr>\n",
       "      <th>3</th>\n",
       "      <td>5.0</td>\n",
       "      <td>0.0</td>\n",
       "      <td>0.0</td>\n",
       "      <td>0.0</td>\n",
       "      <td>0.0</td>\n",
       "      <td>0.0</td>\n",
       "      <td>0.0</td>\n",
       "      <td>0.0</td>\n",
       "      <td>0.0</td>\n",
       "      <td>0.00000</td>\n",
       "      <td>...</td>\n",
       "      <td>0.262051</td>\n",
       "      <td>0.0</td>\n",
       "      <td>0.0</td>\n",
       "      <td>0.0</td>\n",
       "      <td>0.000000</td>\n",
       "      <td>0.0</td>\n",
       "      <td>0.0</td>\n",
       "      <td>love</td>\n",
       "      <td>0.692527</td>\n",
       "      <td>2.094841</td>\n",
       "    </tr>\n",
       "    <tr>\n",
       "      <th>4</th>\n",
       "      <td>5.0</td>\n",
       "      <td>0.0</td>\n",
       "      <td>0.0</td>\n",
       "      <td>0.0</td>\n",
       "      <td>0.0</td>\n",
       "      <td>0.0</td>\n",
       "      <td>0.0</td>\n",
       "      <td>0.0</td>\n",
       "      <td>0.0</td>\n",
       "      <td>0.00000</td>\n",
       "      <td>...</td>\n",
       "      <td>0.237029</td>\n",
       "      <td>0.0</td>\n",
       "      <td>0.0</td>\n",
       "      <td>0.0</td>\n",
       "      <td>0.000000</td>\n",
       "      <td>0.0</td>\n",
       "      <td>0.0</td>\n",
       "      <td>shirt</td>\n",
       "      <td>0.677628</td>\n",
       "      <td>2.435643</td>\n",
       "    </tr>\n",
       "  </tbody>\n",
       "</table>\n",
       "<p>5 rows × 128 columns</p>\n",
       "</div>"
      ],
      "text/plain": [
       "   Rating  arm  beautiful  better  big  bit  black  blue  body   bought  \\\n",
       "0     4.0  0.0        0.0     0.0  0.0  0.0    0.0   0.0   0.0  0.00000   \n",
       "1     5.0  0.0        0.0     0.0  0.0  0.0    0.0   0.0   0.0  0.19417   \n",
       "2     3.0  0.0        0.0     0.0  0.0  0.0    0.0   0.0   0.0  0.00000   \n",
       "3     5.0  0.0        0.0     0.0  0.0  0.0    0.0   0.0   0.0  0.00000   \n",
       "4     5.0  0.0        0.0     0.0  0.0  0.0    0.0   0.0   0.0  0.00000   \n",
       "\n",
       "     ...         wear  wearing  went  white      work  worn    x      Keyword  \\\n",
       "0    ...     0.000000      0.0   0.0    0.0  0.000000   0.0  0.0  comfortable   \n",
       "1    ...     0.000000      0.0   0.0    0.0  0.000000   0.0  0.0       petite   \n",
       "2    ...     0.000000      0.0   0.0    0.0  0.206939   0.0  0.0        small   \n",
       "3    ...     0.262051      0.0   0.0    0.0  0.000000   0.0  0.0         love   \n",
       "4    ...     0.237029      0.0   0.0    0.0  0.000000   0.0  0.0        shirt   \n",
       "\n",
       "        Max       Sum  \n",
       "0  1.000000  1.000000  \n",
       "1  0.644406  3.466632  \n",
       "2  0.533009  3.519209  \n",
       "3  0.692527  2.094841  \n",
       "4  0.677628  2.435643  \n",
       "\n",
       "[5 rows x 128 columns]"
      ]
     },
     "execution_count": 10,
     "metadata": {},
     "output_type": "execute_result"
    }
   ],
   "source": [
    "# Merging td-idf weight matrix with original DataFrame\n",
    "df_text_rec = pd.concat([rev_new[['Recommended IND']], model_text], axis=1)\n",
    "df_text = pd.concat([rev_new[['Rating']], model_text], axis=1)\n",
    "df_text.head()"
   ]
  },
  {
   "cell_type": "code",
   "execution_count": 11,
   "metadata": {},
   "outputs": [],
   "source": [
    "to_drop = ['Keyword', 'Max', 'Sum']\n",
    "\n",
    "df_dropped = df_text.drop(to_drop, axis=1)\n",
    "df_dropped_rec = df_text_rec.drop(to_drop, axis=1)\n",
    "\n",
    "df_dropped=df_dropped.dropna(0)\n",
    "df_dropped_rec=df_dropped_rec.dropna(0)"
   ]
  },
  {
   "cell_type": "code",
   "execution_count": 74,
   "metadata": {},
   "outputs": [],
   "source": [
    "X = df_dropped.drop('Rating', axis=1)\n",
    "y = df_dropped['Rating']\n",
    "\n",
    "\n",
    "X_train, X_test, y_train, y_test = train_test_split(X, y, test_size=0.3, random_state=101)\n",
    "\n",
    "ran = RandomForestClassifier(n_estimators=50)\n",
    "ran.fit(X_train, y_train)\n",
    "\n",
    "\n",
    "# Compile arrays of columns (words) and feature importances\n",
    "fi = {'Words':df_dropped.drop('Rating',axis=1).columns.tolist(),'Importance':ran.feature_importances_}\n",
    "\n",
    "# Bung these into a dataframe, rank highest to lowest then slice top 20\n",
    "Importance = pd.DataFrame(fi,index=None).sort_values('Importance',ascending=False).head(25)\n"
   ]
  },
  {
   "cell_type": "code",
   "execution_count": 75,
   "metadata": {},
   "outputs": [
    {
     "data": {
      "image/png": "[encoded data removed]",
      "text/plain": [
       "<Figure size 360x360 with 1 Axes>"
      ]
     },
     "metadata": {},
     "output_type": "display_data"
    }
   ],
   "source": [
    "# Plot the graph!\n",
    "titles = [\"Top 25 most important words in predicting product rating\"]\n",
    "\n",
    "\n",
    "sns.set(style=\"whitegrid\")\n",
    "ft = sns.PairGrid(Importance,y_vars='Words',x_vars='Importance',size=5,aspect=1)\n",
    "ft.map(sns.stripplot,orient='h',palette='Greens_r', edgecolor=\"black\",size=15)\n",
    "for ax, title in zip(ft.axes.flat, titles):\n",
    "        \n",
    "    # Set a different title for each axes\n",
    "    ax.set(title=title)\n",
    "        \n",
    "    # Make the grid horizontal instead of vertical\n",
    "    ax.xaxis.grid(False)\n",
    "    ax.yaxis.grid(True)\n",
    "#plt.savefig('Most_importance_words.jpg', bbox_inches='tight')\n",
    "plt.show()\n"
   ]
  },
  {
   "cell_type": "code",
   "execution_count": 43,
   "metadata": {},
   "outputs": [
    {
     "name": "stdout",
     "output_type": "stream",
     "text": [
      "Accuracy on training data:  0.5565876313859692\n",
      "Accuracy on test data:  0.5510540788267644\n"
     ]
    }
   ],
   "source": [
    "#Random Forest model\n",
    "X = df_dropped.drop('Rating', axis=1)\n",
    "y = df_dropped['Rating']\n",
    "\n",
    "\n",
    "# Split the dataset \n",
    "train_X, test_X, train_y, test_y = train_test_split(X, y)\n",
    "\n",
    "ran = RandomForestClassifier(n_estimators=40, max_depth=6)\n",
    "\n",
    "# Fit the model to the training data\n",
    "ran.fit(train_X, train_y)\n",
    "\n",
    "#Print the accuracy scores for the training and test sets\n",
    "training_accuracy = ran.score(train_X, train_y)\n",
    "test_accuracy = ran.score(test_X, test_y)\n",
    "print (\"Accuracy on training data: \", training_accuracy)\n",
    "print (\"Accuracy on test data: \", test_accuracy)"
   ]
  },
  {
   "cell_type": "code",
   "execution_count": 44,
   "metadata": {},
   "outputs": [
    {
     "name": "stdout",
     "output_type": "stream",
     "text": [
      "Accuracy on training data:  0.8182595942312393\n",
      "Accuracy on test data:  0.8212648945921174\n"
     ]
    }
   ],
   "source": [
    "X = df_dropped_rec.drop('Recommended IND', axis=1)\n",
    "y = df_dropped_rec['Recommended IND']\n",
    "\n",
    "train_X, test_X, train_y, test_y = train_test_split(X, y)\n",
    "\n",
    "ran =RandomForestClassifier(n_estimators=40, max_depth=6)\n",
    "# Fit the model to the training data\n",
    "model = ran.fit(train_X, train_y)\n",
    "\n",
    "#Print the accuracy scores for the training and test sets\n",
    "training_accuracy = ran.score(train_X, train_y)\n",
    "test_accuracy = ran.score(test_X, test_y)\n",
    "print (\"Accuracy on training data: \", training_accuracy)\n",
    "print (\"Accuracy on test data: \", test_accuracy)\n"
   ]
  },
  {
   "cell_type": "code",
   "execution_count": 45,
   "metadata": {},
   "outputs": [
    {
     "name": "stdout",
     "output_type": "stream",
     "text": [
      "Accuracy on training data:  0.5549376680518211\n",
      "Accuracy on test data:  0.5560036663611365\n"
     ]
    }
   ],
   "source": [
    "#Multinomial Naive Bayes model\n",
    "X = df_dropped.drop('Rating', axis=1)\n",
    "y = df_dropped['Rating']\n",
    "\n",
    "\n",
    "# Split the dataset \n",
    "train_X, test_X, train_y, test_y = train_test_split(X, y)\n",
    "\n",
    "nb = MultinomialNB()\n",
    "# Fit the model to the training data\n",
    "nb.fit(train_X, train_y)\n",
    "\n",
    "#Print the accuracy scores for the training and test sets\n",
    "training_accuracy = nb.score(train_X, train_y)\n",
    "test_accuracy = nb.score(test_X, test_y)\n",
    "print (\"Accuracy on training data: \", training_accuracy)\n",
    "print (\"Accuracy on test data: \", test_accuracy)\n"
   ]
  },
  {
   "cell_type": "code",
   "execution_count": 46,
   "metadata": {},
   "outputs": [
    {
     "name": "stdout",
     "output_type": "stream",
     "text": [
      "Accuracy on training data:  0.8182595942312393\n",
      "Accuracy on test data:  0.8212648945921174\n"
     ]
    }
   ],
   "source": [
    "X = df_dropped_rec.drop('Recommended IND', axis=1)\n",
    "y = df_dropped_rec['Recommended IND']\n",
    "\n",
    "train_X, test_X, train_y, test_y = train_test_split(X, y)\n",
    "\n",
    "nb = MultinomialNB()\n",
    "# Fit the model to the training data\n",
    "model = nb.fit(train_X, train_y)\n",
    "\n",
    "#Print the accuracy scores for the training and test sets\n",
    "training_accuracy = nb.score(train_X, train_y)\n",
    "test_accuracy = nb.score(test_X, test_y)\n",
    "print (\"Accuracy on training data: \", training_accuracy)\n",
    "print (\"Accuracy on test data: \", test_accuracy)\n"
   ]
  },
  {
   "cell_type": "markdown",
   "metadata": {},
   "source": [
    "#### Using Multinomial Bayes Algorithm to predict:\n",
    "#### - which product has rating 5 and which 1;\n",
    "#### - which product is recommended and which not."
   ]
  },
  {
   "cell_type": "code",
   "execution_count": 47,
   "metadata": {},
   "outputs": [],
   "source": [
    "import string\n",
    "def text_process(review):\n",
    "    nopunc=[word for word in review if word not in string.punctuation]\n",
    "    nopunc=''.join(nopunc)\n",
    "    return [word for word in nopunc.split() if word.lower() not in stopwords.words('english')]"
   ]
  },
  {
   "cell_type": "code",
   "execution_count": 48,
   "metadata": {},
   "outputs": [],
   "source": [
    "rev_new=rev_new.dropna(axis=0,how='any')\n",
    "rating_class = rev_new[(rev_new['Rating'] == 1) | (rev_new['Rating'] == 5)]\n",
    "X_review=rating_class['Review Text']\n",
    "y=rating_class['Rating']"
   ]
  },
  {
   "cell_type": "code",
   "execution_count": 49,
   "metadata": {},
   "outputs": [],
   "source": [
    "transformer=CountVectorizer(analyzer=text_process)\n",
    "X = transformer.fit_transform(X_review)\n"
   ]
  },
  {
   "cell_type": "code",
   "execution_count": 50,
   "metadata": {},
   "outputs": [
    {
     "name": "stdout",
     "output_type": "stream",
     "text": [
      "[[  63  126]\n",
      " [  11 3249]]\n",
      "\n",
      "\n",
      "             precision    recall  f1-score   support\n",
      "\n",
      "          1       0.85      0.33      0.48       189\n",
      "          5       0.96      1.00      0.98      3260\n",
      "\n",
      "avg / total       0.96      0.96      0.95      3449\n",
      "\n"
     ]
    }
   ],
   "source": [
    "X_train, X_test, y_train, y_test = train_test_split(X, y, test_size=0.3, random_state=101)\n",
    "\n",
    "nb = MultinomialNB()\n",
    "nb.fit(X_train, y_train)\n",
    "\n",
    "predict=nb.predict(X_test)\n",
    "\n",
    "print(confusion_matrix(y_test, predict))\n",
    "print('\\n')\n",
    "print(classification_report(y_test, predict))"
   ]
  },
  {
   "cell_type": "markdown",
   "metadata": {},
   "source": [
    "It is a great result: 96% of accuracy. We test now"
   ]
  },
  {
   "cell_type": "code",
   "execution_count": 51,
   "metadata": {},
   "outputs": [
    {
     "name": "stdout",
     "output_type": "stream",
     "text": [
      "I love, love, love this jumpsuit. it's fun, flirty, and fabulous! every time i wear it, i get nothing but great compliments!\n"
     ]
    },
    {
     "data": {
      "text/html": [
       "<div>\n",
       "<style scoped>\n",
       "    .dataframe tbody tr th:only-of-type {\n",
       "        vertical-align: middle;\n",
       "    }\n",
       "\n",
       "    .dataframe tbody tr th {\n",
       "        vertical-align: top;\n",
       "    }\n",
       "\n",
       "    .dataframe thead th {\n",
       "        text-align: right;\n",
       "    }\n",
       "</style>\n",
       "<table border=\"1\" class=\"dataframe\">\n",
       "  <thead>\n",
       "    <tr style=\"text-align: right;\">\n",
       "      <th></th>\n",
       "      <th>Clothing ID</th>\n",
       "      <th>Age</th>\n",
       "      <th>Title</th>\n",
       "      <th>Review Text</th>\n",
       "      <th>Rating</th>\n",
       "      <th>Recommended IND</th>\n",
       "      <th>Positive Feedback Count</th>\n",
       "      <th>Division Name</th>\n",
       "      <th>Department Name</th>\n",
       "      <th>Class Name</th>\n",
       "      <th>char_length_RT</th>\n",
       "      <th>word_count_RT</th>\n",
       "      <th>avg_word</th>\n",
       "      <th>stopwords_len</th>\n",
       "      <th>spec_char</th>\n",
       "      <th>RT_new</th>\n",
       "      <th>sent</th>\n",
       "      <th>Sentiment</th>\n",
       "      <th>Filtered_RT</th>\n",
       "    </tr>\n",
       "  </thead>\n",
       "  <tbody>\n",
       "    <tr>\n",
       "      <th>3</th>\n",
       "      <td>1049</td>\n",
       "      <td>50</td>\n",
       "      <td>My favorite buy!</td>\n",
       "      <td>I love, love, love this jumpsuit. it's fun, fl...</td>\n",
       "      <td>5</td>\n",
       "      <td>1</td>\n",
       "      <td>0</td>\n",
       "      <td>General Petite</td>\n",
       "      <td>Bottoms</td>\n",
       "      <td>Pants</td>\n",
       "      <td>124</td>\n",
       "      <td>22</td>\n",
       "      <td>4.681818</td>\n",
       "      <td>6</td>\n",
       "      <td>2</td>\n",
       "      <td>love love love jumpsuit fun flirty fabulous ti...</td>\n",
       "      <td>0.55</td>\n",
       "      <td>Positive</td>\n",
       "      <td>[love, love, love, jumpsuit, fun, flirty, fabu...</td>\n",
       "    </tr>\n",
       "  </tbody>\n",
       "</table>\n",
       "</div>"
      ],
      "text/plain": [
       "   Clothing ID  Age             Title  \\\n",
       "3         1049   50  My favorite buy!   \n",
       "\n",
       "                                         Review Text  Rating  Recommended IND  \\\n",
       "3  I love, love, love this jumpsuit. it's fun, fl...       5                1   \n",
       "\n",
       "   Positive Feedback Count   Division Name Department Name Class Name  \\\n",
       "3                        0  General Petite         Bottoms      Pants   \n",
       "\n",
       "   char_length_RT  word_count_RT  avg_word  stopwords_len  spec_char  \\\n",
       "3             124             22  4.681818              6          2   \n",
       "\n",
       "                                              RT_new  sent Sentiment  \\\n",
       "3  love love love jumpsuit fun flirty fabulous ti...  0.55  Positive   \n",
       "\n",
       "                                         Filtered_RT  \n",
       "3  [love, love, love, jumpsuit, fun, flirty, fabu...  "
      ]
     },
     "execution_count": 51,
     "metadata": {},
     "output_type": "execute_result"
    }
   ],
   "source": [
    "test=rev_new['Review Text'][3]\n",
    "print (test)\n",
    "rev_new.iloc[1:2,:]"
   ]
  },
  {
   "cell_type": "code",
   "execution_count": 52,
   "metadata": {},
   "outputs": [
    {
     "data": {
      "text/plain": [
       "5"
      ]
     },
     "execution_count": 52,
     "metadata": {},
     "output_type": "execute_result"
    }
   ],
   "source": [
    "test_transformed = transformer.transform([test])\n",
    "nb.predict(test_transformed)[0]"
   ]
  },
  {
   "cell_type": "markdown",
   "metadata": {},
   "source": [
    "RIGHT! Now test negative one."
   ]
  },
  {
   "cell_type": "code",
   "execution_count": 53,
   "metadata": {},
   "outputs": [
    {
     "name": "stdout",
     "output_type": "stream",
     "text": [
      "     Clothing ID  Age                        Title  \\\n",
      "61           368   36                   Itchy tags   \n",
      "97           861   44                         Huge   \n",
      "110          861   44                 Poor quality   \n",
      "161          829   52  Scratchy, uncomfortable top   \n",
      "214         1020   67             Not as pictured!   \n",
      "\n",
      "                                           Review Text  Rating  \\\n",
      "61   3 tags sewn in, 2 small (about 1'' long) and 1...       1   \n",
      "97   I was very excited to order this top in red xs...       1   \n",
      "110  This is so thin and poor quality. especially f...       1   \n",
      "161  The title says it all....this fabric of this t...       1   \n",
      "214  The skirt that i received had very little blue...       1   \n",
      "\n",
      "     Recommended IND  Positive Feedback Count   Division Name Department Name  \\\n",
      "61                 0                        0       Initmates        Intimate   \n",
      "97                 0                        0  General Petite            Tops   \n",
      "110                0                       11  General Petite            Tops   \n",
      "161                0                        8  General Petite            Tops   \n",
      "214                0                       17  General Petite         Bottoms   \n",
      "\n",
      "    Class Name  char_length_RT  word_count_RT  avg_word  stopwords_len  \\\n",
      "61   Intimates             484            103  3.708738             47   \n",
      "97       Knits             157             32  3.937500             17   \n",
      "110      Knits             180             32  4.656250             13   \n",
      "161    Blouses             500             86  4.747126             39   \n",
      "214     Skirts             249             49  4.102041             27   \n",
      "\n",
      "     spec_char                                             RT_new      sent  \\\n",
      "61           3  tags sewn small long huge x itchy cut thread l...  0.031250   \n",
      "97           1  excited order red xs cute huge shapeless suppo...  0.118056   \n",
      "110          0  poor quality especially price felt like pajama... -0.269643   \n",
      "161          0  title says allthis fabric best worst design co...  0.096537   \n",
      "214          0  skirt received little blue green white yellow ... -0.025231   \n",
      "\n",
      "    Sentiment                                        Filtered_RT  \n",
      "61    Neutral  [tag, sewn, small, long, huge, x, itchy, cut, ...  \n",
      "97    Neutral  [excited, order, red, x, cute, huge, shapeless...  \n",
      "110  Negative  [poor, quality, especially, price, felt, like,...  \n",
      "161   Neutral  [title, say, allthis, fabric, best, worst, des...  \n",
      "214   Neutral  [skirt, received, little, blue, green, white, ...  \n"
     ]
    }
   ],
   "source": [
    "print (rev_new[rev_new['Rating'] == 1].head())"
   ]
  },
  {
   "cell_type": "code",
   "execution_count": 54,
   "metadata": {},
   "outputs": [
    {
     "data": {
      "text/plain": [
       "\"3 tags sewn in, 2 small (about 1'' long) and 1 huge (about 2'' x 3''). very itchy so i cut them out. then the thread left behind was plasticy and even more itchy! how can you make an intimates item with such itchy tags? not comfortable at all! also - i love bralettes and wear them all the time including to work. i am a b cup. however, this one is so thin and flimsy that it gives no support even to a b cup - so for me this would only be a lounging bralette - if it wasn't so itchy!\""
      ]
     },
     "execution_count": 54,
     "metadata": {},
     "output_type": "execute_result"
    }
   ],
   "source": [
    "test_neg=rev_new['Review Text'][61]\n",
    "test_neg"
   ]
  },
  {
   "cell_type": "code",
   "execution_count": 55,
   "metadata": {},
   "outputs": [
    {
     "data": {
      "text/plain": [
       "1"
      ]
     },
     "execution_count": 55,
     "metadata": {},
     "output_type": "execute_result"
    }
   ],
   "source": [
    "test_neg_transformed = transformer.transform([test_neg])\n",
    "nb.predict(test_neg_transformed)[0]"
   ]
  },
  {
   "cell_type": "markdown",
   "metadata": {},
   "source": [
    "RIGHT! Our predict model works\n",
    "\n",
    "Now, Recommended or not"
   ]
  },
  {
   "cell_type": "code",
   "execution_count": 76,
   "metadata": {},
   "outputs": [
    {
     "name": "stdout",
     "output_type": "stream",
     "text": [
      "[[ 736  486]\n",
      " [ 280 5291]]\n",
      "\n",
      "\n",
      "             precision    recall  f1-score   support\n",
      "\n",
      "          0       0.72      0.60      0.66      1222\n",
      "          1       0.92      0.95      0.93      5571\n",
      "\n",
      "avg / total       0.88      0.89      0.88      6793\n",
      "\n"
     ]
    }
   ],
   "source": [
    "X_rec=rev_new['Review Text']\n",
    "y_rec=rev_new['Recommended IND']\n",
    "\n",
    "transformer=CountVectorizer(analyzer=text_process)\n",
    "\n",
    "X = transformer.fit_transform(X_rec)\n",
    "\n",
    "X_train, X_test, y_train, y_test = train_test_split(X, y_rec, test_size=0.3, random_state=101)\n",
    "\n",
    "nb = MultinomialNB()\n",
    "nb.fit(X_train, y_train)\n",
    "\n",
    "predict_recommendation=nb.predict(X_test)\n",
    "\n",
    "\n",
    "print(confusion_matrix(y_test, predict_recommendation))\n",
    "print('\\n')\n",
    "print(classification_report(y_test, predict_recommendation))\n"
   ]
  },
  {
   "cell_type": "code",
   "execution_count": 77,
   "metadata": {},
   "outputs": [
    {
     "data": {
      "text/plain": [
       "1"
      ]
     },
     "execution_count": 77,
     "metadata": {},
     "output_type": "execute_result"
    }
   ],
   "source": [
    "test_rec=rev_new['Review Text'][3]\n",
    "\n",
    "test_transformed = transformer.transform([test_rec])\n",
    "nb.predict(test_transformed)[0]"
   ]
  },
  {
   "cell_type": "code",
   "execution_count": 78,
   "metadata": {},
   "outputs": [
    {
     "data": {
      "text/plain": [
       "0"
      ]
     },
     "execution_count": 78,
     "metadata": {},
     "output_type": "execute_result"
    }
   ],
   "source": [
    "test_no_rec=rev_new['Review Text'][61]\n",
    "\n",
    "test_transformed = transformer.transform([test_no_rec])\n",
    "nb.predict(test_transformed)[0]"
   ]
  },
  {
   "cell_type": "markdown",
   "metadata": {},
   "source": [
    "RIGHT! The predict model works well!!!"
   ]
  },
  {
   "cell_type": "markdown",
   "metadata": {},
   "source": [
    "### Do the text features help the performance of a model?"
   ]
  },
  {
   "cell_type": "code",
   "execution_count": 12,
   "metadata": {},
   "outputs": [
    {
     "name": "stdout",
     "output_type": "stream",
     "text": [
      "Input shape:\t(22641, 15)\n",
      "After converting categoricals:\t(22641, 45)\n"
     ]
    }
   ],
   "source": [
    "df_new = pre_process_data(df)\n"
   ]
  },
  {
   "cell_type": "code",
   "execution_count": 13,
   "metadata": {},
   "outputs": [
    {
     "data": {
      "text/plain": [
       "(22641, 127)"
      ]
     },
     "execution_count": 13,
     "metadata": {},
     "output_type": "execute_result"
    }
   ],
   "source": [
    "model_text.shape"
   ]
  },
  {
   "cell_type": "code",
   "execution_count": 14,
   "metadata": {},
   "outputs": [
    {
     "data": {
      "text/html": [
       "<div>\n",
       "<style scoped>\n",
       "    .dataframe tbody tr th:only-of-type {\n",
       "        vertical-align: middle;\n",
       "    }\n",
       "\n",
       "    .dataframe tbody tr th {\n",
       "        vertical-align: top;\n",
       "    }\n",
       "\n",
       "    .dataframe thead th {\n",
       "        text-align: right;\n",
       "    }\n",
       "</style>\n",
       "<table border=\"1\" class=\"dataframe\">\n",
       "  <thead>\n",
       "    <tr style=\"text-align: right;\">\n",
       "      <th></th>\n",
       "      <th>Clothing ID</th>\n",
       "      <th>Age</th>\n",
       "      <th>Rating</th>\n",
       "      <th>Recommended IND</th>\n",
       "      <th>Positive Feedback Count</th>\n",
       "      <th>char_length_RT</th>\n",
       "      <th>word_count_RT</th>\n",
       "      <th>avg_word</th>\n",
       "      <th>stopwords_len</th>\n",
       "      <th>spec_char</th>\n",
       "      <th>...</th>\n",
       "      <th>want</th>\n",
       "      <th>wanted</th>\n",
       "      <th>way</th>\n",
       "      <th>wear</th>\n",
       "      <th>wearing</th>\n",
       "      <th>went</th>\n",
       "      <th>white</th>\n",
       "      <th>work</th>\n",
       "      <th>worn</th>\n",
       "      <th>x</th>\n",
       "    </tr>\n",
       "  </thead>\n",
       "  <tbody>\n",
       "    <tr>\n",
       "      <th>0</th>\n",
       "      <td>767.0</td>\n",
       "      <td>33.0</td>\n",
       "      <td>4.0</td>\n",
       "      <td>1.0</td>\n",
       "      <td>0.0</td>\n",
       "      <td>53.0</td>\n",
       "      <td>8.0</td>\n",
       "      <td>5.750000</td>\n",
       "      <td>2.0</td>\n",
       "      <td>0.0</td>\n",
       "      <td>...</td>\n",
       "      <td>0.0</td>\n",
       "      <td>0.000000</td>\n",
       "      <td>0.0</td>\n",
       "      <td>0.000000</td>\n",
       "      <td>0.0</td>\n",
       "      <td>0.0</td>\n",
       "      <td>0.0</td>\n",
       "      <td>0.000000</td>\n",
       "      <td>0.0</td>\n",
       "      <td>0.0</td>\n",
       "    </tr>\n",
       "    <tr>\n",
       "      <th>1</th>\n",
       "      <td>1080.0</td>\n",
       "      <td>34.0</td>\n",
       "      <td>5.0</td>\n",
       "      <td>1.0</td>\n",
       "      <td>4.0</td>\n",
       "      <td>303.0</td>\n",
       "      <td>67.0</td>\n",
       "      <td>3.822581</td>\n",
       "      <td>30.0</td>\n",
       "      <td>1.0</td>\n",
       "      <td>...</td>\n",
       "      <td>0.0</td>\n",
       "      <td>0.000000</td>\n",
       "      <td>0.0</td>\n",
       "      <td>0.000000</td>\n",
       "      <td>0.0</td>\n",
       "      <td>0.0</td>\n",
       "      <td>0.0</td>\n",
       "      <td>0.000000</td>\n",
       "      <td>0.0</td>\n",
       "      <td>0.0</td>\n",
       "    </tr>\n",
       "    <tr>\n",
       "      <th>2</th>\n",
       "      <td>1077.0</td>\n",
       "      <td>60.0</td>\n",
       "      <td>3.0</td>\n",
       "      <td>0.0</td>\n",
       "      <td>0.0</td>\n",
       "      <td>500.0</td>\n",
       "      <td>98.0</td>\n",
       "      <td>4.112245</td>\n",
       "      <td>45.0</td>\n",
       "      <td>1.0</td>\n",
       "      <td>...</td>\n",
       "      <td>0.0</td>\n",
       "      <td>0.258447</td>\n",
       "      <td>0.0</td>\n",
       "      <td>0.000000</td>\n",
       "      <td>0.0</td>\n",
       "      <td>0.0</td>\n",
       "      <td>0.0</td>\n",
       "      <td>0.206939</td>\n",
       "      <td>0.0</td>\n",
       "      <td>0.0</td>\n",
       "    </tr>\n",
       "    <tr>\n",
       "      <th>3</th>\n",
       "      <td>1049.0</td>\n",
       "      <td>50.0</td>\n",
       "      <td>5.0</td>\n",
       "      <td>1.0</td>\n",
       "      <td>0.0</td>\n",
       "      <td>124.0</td>\n",
       "      <td>22.0</td>\n",
       "      <td>4.681818</td>\n",
       "      <td>6.0</td>\n",
       "      <td>2.0</td>\n",
       "      <td>...</td>\n",
       "      <td>0.0</td>\n",
       "      <td>0.000000</td>\n",
       "      <td>0.0</td>\n",
       "      <td>0.262051</td>\n",
       "      <td>0.0</td>\n",
       "      <td>0.0</td>\n",
       "      <td>0.0</td>\n",
       "      <td>0.000000</td>\n",
       "      <td>0.0</td>\n",
       "      <td>0.0</td>\n",
       "    </tr>\n",
       "    <tr>\n",
       "      <th>4</th>\n",
       "      <td>847.0</td>\n",
       "      <td>47.0</td>\n",
       "      <td>5.0</td>\n",
       "      <td>1.0</td>\n",
       "      <td>6.0</td>\n",
       "      <td>192.0</td>\n",
       "      <td>36.0</td>\n",
       "      <td>4.361111</td>\n",
       "      <td>19.0</td>\n",
       "      <td>1.0</td>\n",
       "      <td>...</td>\n",
       "      <td>0.0</td>\n",
       "      <td>0.000000</td>\n",
       "      <td>0.0</td>\n",
       "      <td>0.237029</td>\n",
       "      <td>0.0</td>\n",
       "      <td>0.0</td>\n",
       "      <td>0.0</td>\n",
       "      <td>0.000000</td>\n",
       "      <td>0.0</td>\n",
       "      <td>0.0</td>\n",
       "    </tr>\n",
       "  </tbody>\n",
       "</table>\n",
       "<p>5 rows × 169 columns</p>\n",
       "</div>"
      ],
      "text/plain": [
       "   Clothing ID   Age  Rating  Recommended IND  Positive Feedback Count  \\\n",
       "0        767.0  33.0     4.0              1.0                      0.0   \n",
       "1       1080.0  34.0     5.0              1.0                      4.0   \n",
       "2       1077.0  60.0     3.0              0.0                      0.0   \n",
       "3       1049.0  50.0     5.0              1.0                      0.0   \n",
       "4        847.0  47.0     5.0              1.0                      6.0   \n",
       "\n",
       "   char_length_RT  word_count_RT  avg_word  stopwords_len  spec_char ...   \\\n",
       "0            53.0            8.0  5.750000            2.0        0.0 ...    \n",
       "1           303.0           67.0  3.822581           30.0        1.0 ...    \n",
       "2           500.0           98.0  4.112245           45.0        1.0 ...    \n",
       "3           124.0           22.0  4.681818            6.0        2.0 ...    \n",
       "4           192.0           36.0  4.361111           19.0        1.0 ...    \n",
       "\n",
       "   want    wanted  way      wear  wearing  went  white      work  worn    x  \n",
       "0   0.0  0.000000  0.0  0.000000      0.0   0.0    0.0  0.000000   0.0  0.0  \n",
       "1   0.0  0.000000  0.0  0.000000      0.0   0.0    0.0  0.000000   0.0  0.0  \n",
       "2   0.0  0.258447  0.0  0.000000      0.0   0.0    0.0  0.206939   0.0  0.0  \n",
       "3   0.0  0.000000  0.0  0.262051      0.0   0.0    0.0  0.000000   0.0  0.0  \n",
       "4   0.0  0.000000  0.0  0.237029      0.0   0.0    0.0  0.000000   0.0  0.0  \n",
       "\n",
       "[5 rows x 169 columns]"
      ]
     },
     "execution_count": 14,
     "metadata": {},
     "output_type": "execute_result"
    }
   ],
   "source": [
    "model_tot = pd.concat([df_new, model_text], axis=1)\n",
    "\n",
    "model_tot = model_tot.fillna(0)\n",
    "\n",
    "to_drop = ['Keyword', 'Max', 'Sum']\n",
    "model_tot_dropped = model_tot.drop(to_drop, axis=1)\n",
    "model_tot_dropped.head()\n",
    "\n"
   ]
  },
  {
   "cell_type": "code",
   "execution_count": 105,
   "metadata": {},
   "outputs": [
    {
     "data": {
      "image/png": "[encoded data removed]",
      "text/plain": [
       "<Figure size 1080x1440 with 1 Axes>"
      ]
     },
     "metadata": {},
     "output_type": "display_data"
    }
   ],
   "source": [
    "X = model_tot_dropped.drop('Rating', axis=1)\n",
    "y = model_tot_dropped.Rating \n",
    "\n",
    "#SEED = 1\n",
    "# Split dataset into 70% train and 30% test\n",
    "X_train, X_test, y_train, y_test = train_test_split(X, y,test_size=0.3)\n",
    "\n",
    "# Import RandomForestRegressor\n",
    "from sklearn.ensemble import RandomForestRegressor\n",
    "\n",
    "# Instantiate rf\n",
    "rf = RandomForestRegressor(n_estimators=25,\n",
    "            random_state=2)\n",
    "            \n",
    "# Fit rf to the training set    \n",
    "rf.fit(X_train, y_train)\n",
    "\n",
    "\n",
    "# Predict the test set labels\n",
    "y_pred = rf.predict(X_test)\n",
    "\n",
    "\n",
    "# Create a pd.Series of features importances\n",
    "importances = pd.Series(data=rf.feature_importances_, index= X_train.columns)\n",
    "\n",
    "# Sort importances\n",
    "importances_sorted = importances.sort_values()\n",
    "\n",
    "# Draw a horizontal barplot of importances_sorted\n",
    "plt.subplots(figsize=(15,20))\n",
    "importances.nlargest(30).plot(kind='barh', color='lightgreen')\n",
    "plt.title('Features Importances')\n",
    "plt.savefig('feature_selection_total.jpg', bbox_inches= 'tight')\n",
    "plt.show()\n",
    "\n",
    "\n"
   ]
  },
  {
   "cell_type": "code",
   "execution_count": 125,
   "metadata": {},
   "outputs": [
    {
     "name": "stdout",
     "output_type": "stream",
     "text": [
      "Accuracy on training data:  0.6547126156843643\n",
      "Accuracy on test data:  0.615428327887484\n"
     ]
    }
   ],
   "source": [
    "X = model_tot_dropped.drop('Rating', axis=1)\n",
    "y = model_tot_dropped.Rating \n",
    "\n",
    "SEED = 1\n",
    "# Split dataset into 70% train and 30% test\n",
    "X_train, X_test, y_train, y_test = train_test_split(X, y,test_size=0.3,random_state=SEED)\n",
    "\n",
    "\n",
    "# Training our model: random forest classifier\n",
    "#ran = RandomForestClassifier(n_estimators=50, random_state=0)\n",
    "ran = RandomForestClassifier(n_estimators=150, max_depth=13, min_samples_split=5, min_samples_leaf=1, max_leaf_nodes=85)\n",
    "\n",
    "# Fit the model to the training data\n",
    "mod1 = ran.fit(X_train, y_train)\n",
    "\n",
    "#Print the accuracy scores for the training and test sets\n",
    "training_accuracy = ran.score(X_train, y_train)\n",
    "test_accuracy = ran.score(X_test, y_test)\n",
    "print (\"Accuracy on training data: \", training_accuracy)\n",
    "print (\"Accuracy on test data: \", test_accuracy)\n"
   ]
  },
  {
   "cell_type": "markdown",
   "metadata": {},
   "source": [
    "It seems that the text features don't improve the model to predict the rating."
   ]
  },
  {
   "cell_type": "code",
   "execution_count": 15,
   "metadata": {},
   "outputs": [
    {
     "data": {
      "image/png": "[encoded data removed]",
      "text/plain": [
       "<Figure size 1080x1440 with 1 Axes>"
      ]
     },
     "metadata": {},
     "output_type": "display_data"
    }
   ],
   "source": [
    "to_drop = ['Recommended IND']\n",
    "new_model_tot = model_tot_dropped.drop(to_drop, axis=1)\n",
    "\n",
    "\n",
    "\n",
    "X = new_model_tot.drop('Rating', axis=1)\n",
    "y = new_model_tot.Rating \n",
    "\n",
    "#SEED = 1\n",
    "# Split dataset into 70% train and 30% test\n",
    "X_train, X_test, y_train, y_test = train_test_split(X, y,test_size=0.3)\n",
    "\n",
    "# Import RandomForestRegressor\n",
    "from sklearn.ensemble import RandomForestRegressor\n",
    "\n",
    "# Instantiate rf\n",
    "rf = RandomForestRegressor(n_estimators=1000,\n",
    "            random_state=2)\n",
    "            \n",
    "# Fit rf to the training set    \n",
    "rf.fit(X_train, y_train)\n",
    "\n",
    "\n",
    "# Predict the test set labels\n",
    "y_pred = rf.predict(X_test)\n",
    "\n",
    "\n",
    "# Create a pd.Series of features importances\n",
    "importances = pd.Series(data=rf.feature_importances_, index= X_train.columns)\n",
    "\n",
    "# Sort importances\n",
    "importances_sorted = importances.sort_values()\n",
    "\n",
    "# Draw a horizontal barplot of importances_sorted\n",
    "plt.subplots(figsize=(15,20))\n",
    "importances.nlargest(30).plot(kind='barh', color='lightgreen')\n",
    "plt.title('Features Importances')\n",
    "plt.savefig('feature_selection_total_withoutRec.jpg', bbox_inches= 'tight')\n",
    "plt.show()\n"
   ]
  },
  {
   "cell_type": "code",
   "execution_count": 16,
   "metadata": {},
   "outputs": [
    {
     "name": "stdout",
     "output_type": "stream",
     "text": [
      "Accuracy on training data:  0.5793960058451048\n",
      "Accuracy on test data:  0.553345645688308\n"
     ]
    }
   ],
   "source": [
    "X = new_model_tot.drop('Rating', axis=1)\n",
    "y = new_model_tot.Rating \n",
    "\n",
    "SEED = 1\n",
    "# Split dataset into 70% train and 30% test\n",
    "X_train, X_test, y_train, y_test = train_test_split(X, y,test_size=0.3,random_state=SEED)\n",
    "\n",
    "\n",
    "# Training our model: random forest classifier\n",
    "#ran = RandomForestClassifier(n_estimators=50, random_state=0)\n",
    "ran = RandomForestClassifier(n_estimators=1000, max_depth=13, min_samples_split=5, min_samples_leaf=1, max_leaf_nodes=85)\n",
    "\n",
    "# Fit the model to the training data\n",
    "mod1 = ran.fit(X_train, y_train)\n",
    "\n",
    "#Print the accuracy scores for the training and test sets\n",
    "training_accuracy = ran.score(X_train, y_train)\n",
    "test_accuracy = ran.score(X_test, y_test)\n",
    "print (\"Accuracy on training data: \", training_accuracy)\n",
    "print (\"Accuracy on test data: \", test_accuracy)\n"
   ]
  },
  {
   "cell_type": "code",
   "execution_count": null,
   "metadata": {},
   "outputs": [],
   "source": []
  }
 ],
 "metadata": {
  "kernelspec": {
   "display_name": "Python 3",
   "language": "python",
   "name": "python3"
  },
  "language_info": {
   "codemirror_mode": {
    "name": "ipython",
    "version": 3
   },
   "file_extension": ".py",
   "mimetype": "text/x-python",
   "name": "python",
   "nbconvert_exporter": "python",
   "pygments_lexer": "ipython3",
   "version": "3.6.5"
  }
 },
 "nbformat": 4,
 "nbformat_minor": 2
}
