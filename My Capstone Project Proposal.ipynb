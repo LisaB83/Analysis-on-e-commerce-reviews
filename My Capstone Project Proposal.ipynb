{
 "cells": [
  {
   "cell_type": "markdown",
   "metadata": {},
   "source": [
    "# E-commerce reviews\n",
    "\n",
    "### 1. What is the problem you want to solve?"
   ]
  },
  {
   "cell_type": "markdown",
   "metadata": {},
   "source": [
    "A Women’s Clothing E-commerce dataset consists in reviews written by customers. This is an interesting dataset to analyze because we can match customers and interests with products; it involves query understanding but also scoring and ranking of results, and everything else we need to do to deliver the right results to the right customers. Target the right people and make predictions around behavior and preferences. Understanding the consumer’s preferences can help also the managers to make decisions and improve their offer.\n",
    "\n",
    " **Problems to solve for example:**\n",
    "* The distribution of age  \n",
    "* Correlation between rating and recommended, between age and positive feedback count, etc.\n",
    "* Group by clothing ID: frequency count, check the trend between age and rating and positive feedback count and find the average rating \n",
    "* Group by recommended: the products more recommended and the less ones; correlation with Department Name, Division Name and Positive Feedback Count\n",
    "* Frequency distribution of Class Name\n",
    "* Group by Department Name: average of Rating and positive feedback\n",
    "* The word most used in the review text: positive and negative. (comment: how about trying to predict the rating based on written review?)"
   ]
  },
  {
   "cell_type": "markdown",
   "metadata": {},
   "source": [
    "### 2. Who is your client and why do they care about this problem? In other words, what will your client DO or DECIDE based on your analysis that they wouldn’t have otherwise?"
   ]
  },
  {
   "cell_type": "markdown",
   "metadata": {},
   "source": [
    "In marketing strategies, the companies need to understand their clients and the customer sentiments in order to improve their services and also their products. Through my analysis the companies can identify and categorize opinions towards a product. The sales can be more accurately and increase e-commerce sales by displaying a larger assortment of similar products to each customer. Determine the potential buyers for a certain group of products. My client are all the e-commerce company, from the smallest to the biggest ones.   "
   ]
  },
  {
   "cell_type": "markdown",
   "metadata": {},
   "source": [
    "### 3. What data are you going to use for this? How will you acquire this data?"
   ]
  },
  {
   "cell_type": "markdown",
   "metadata": {},
   "source": [
    "The data will be acquired from Kaggle ( https://www.kaggle.com/nicapotato/womens-ecommerce-clothing-reviews ) and will include 23486 rows and 10 feature variables, which: \n",
    "* Clothing ID: unique identifier of the product;\n",
    "* Age: age of the reviewer;\n",
    "* Title: title of the review;\n",
    "* Review text: product review;\n",
    "* Rating: product score granted by the customer from 1 Worst, to 5 Best; \n",
    "* Recommended IND: customer recommends the product where 1 is recommended, 0 is not recommended; \n",
    "* Positive feedback count: number of positive feedback on the review; \n",
    "* Division name: name of the division product is in; \n",
    "* Department name: name of the department product is in;\n",
    "* Class name: type of product."
   ]
  },
  {
   "cell_type": "markdown",
   "metadata": {},
   "source": [
    "### 4. In brief, outline your approach to solving this problem (knowing that this might change later)."
   ]
  },
  {
   "cell_type": "markdown",
   "metadata": {},
   "source": [
    "1. Data collection: download data from source above\n",
    "2. Data cleaning: prepare the data for the analysis\n",
    "3. Data analysis: explore data doing a statistical description of the dataset; combine and correlate features to extract relevant information from the data as possible; \n",
    "4. Data visualization: show the results to have an immediate feedback."
   ]
  },
  {
   "cell_type": "markdown",
   "metadata": {},
   "source": [
    "### 5. What are your deliverables? Typically, this would include code, along with a paper and/or a slide deck."
   ]
  },
  {
   "cell_type": "markdown",
   "metadata": {},
   "source": [
    "1. Code\n",
    "2. Power Point Presentation\n",
    "3. Report\n"
   ]
  }
 ],
 "metadata": {
  "kernelspec": {
   "display_name": "Python 3",
   "language": "python",
   "name": "python3"
  },
  "language_info": {
   "codemirror_mode": {
    "name": "ipython",
    "version": 3
   },
   "file_extension": ".py",
   "mimetype": "text/x-python",
   "name": "python",
   "nbconvert_exporter": "python",
   "pygments_lexer": "ipython3",
   "version": "3.6.5"
  }
 },
 "nbformat": 4,
 "nbformat_minor": 2
}
